{
 "cells": [
  {
   "cell_type": "code",
   "execution_count": 62,
   "metadata": {},
   "outputs": [],
   "source": [
    "import pandas as pd\n",
    "import numpy as np\n",
    "from bs4 import BeautifulSoup\n",
    "import requests"
   ]
  },
  {
   "cell_type": "code",
   "execution_count": 322,
   "metadata": {},
   "outputs": [],
   "source": [
    "html_page = pd.read_table('http://tennisabstract.com/charting/20050117-M-Australian_Open-R128-Novak_Djokovic-Marat_Safin.html')"
   ]
  },
  {
   "cell_type": "markdown",
   "metadata": {},
   "source": [
    "## all active mens pages"
   ]
  },
  {
   "cell_type": "code",
   "execution_count": 4,
   "metadata": {},
   "outputs": [],
   "source": [
    "match_id_list = soup.select('a[href*=2]')[2:4005]"
   ]
  },
  {
   "cell_type": "markdown",
   "metadata": {},
   "source": [
    "## all mens pages"
   ]
  },
  {
   "cell_type": "code",
   "execution_count": 25,
   "metadata": {},
   "outputs": [],
   "source": [
    "match_id_list_all = soup.select('a[href*=2]')[2:4925]"
   ]
  },
  {
   "cell_type": "code",
   "execution_count": 34,
   "metadata": {},
   "outputs": [],
   "source": [
    "match_href_list = []\n",
    "for x in match_id_list:\n",
    "    match_href_list.append(x['href'])"
   ]
  },
  {
   "cell_type": "code",
   "execution_count": 35,
   "metadata": {},
   "outputs": [],
   "source": [
    "match_href_list_all = []\n",
    "for x in match_id_list_all:\n",
    "    match_href_list_all.append(x['href'])"
   ]
  },
  {
   "cell_type": "code",
   "execution_count": 240,
   "metadata": {},
   "outputs": [
    {
     "data": {
      "text/plain": [
       "2195"
      ]
     },
     "execution_count": 240,
     "metadata": {},
     "output_type": "execute_result"
    }
   ],
   "source": [
    "match_href_list = set(match_href_list)\n",
    "len(match_href_list)"
   ]
  },
  {
   "cell_type": "code",
   "execution_count": 241,
   "metadata": {},
   "outputs": [
    {
     "data": {
      "text/plain": [
       "2462"
      ]
     },
     "execution_count": 241,
     "metadata": {},
     "output_type": "execute_result"
    }
   ],
   "source": [
    "match_href_list_all = set(match_href_list_all)\n",
    "len(match_href_list_all)"
   ]
  },
  {
   "cell_type": "markdown",
   "metadata": {},
   "source": [
    "## all womens pages"
   ]
  },
  {
   "cell_type": "code",
   "execution_count": 362,
   "metadata": {},
   "outputs": [],
   "source": [
    "htmlw = requests.get('http://tennisabstract.com/charting/meta.html')\n",
    "soupw = BeautifulSoup(htmlw.content, 'html.parser')"
   ]
  },
  {
   "cell_type": "code",
   "execution_count": 389,
   "metadata": {},
   "outputs": [],
   "source": [
    "womens_match_id = soupw.select('a[href*=2]')[4940:9484]"
   ]
  },
  {
   "cell_type": "code",
   "execution_count": 390,
   "metadata": {},
   "outputs": [],
   "source": [
    "womens_match_href_list = []\n",
    "for x in womens_match_id:\n",
    "    womens_match_href_list.append(x['href'])"
   ]
  },
  {
   "cell_type": "code",
   "execution_count": 407,
   "metadata": {},
   "outputs": [],
   "source": [
    "womens_match_href_list = list(set(womens_match_href_list))"
   ]
  },
  {
   "cell_type": "markdown",
   "metadata": {},
   "source": [
    "### serve stats"
   ]
  },
  {
   "cell_type": "code",
   "execution_count": 343,
   "metadata": {},
   "outputs": [],
   "source": [
    "html = html_page.iloc[12][0]"
   ]
  },
  {
   "cell_type": "code",
   "execution_count": 344,
   "metadata": {},
   "outputs": [],
   "source": [
    "soup = BeautifulSoup(html, 'html.parser')"
   ]
  },
  {
   "cell_type": "code",
   "execution_count": 296,
   "metadata": {},
   "outputs": [
    {
     "data": {
      "text/plain": [
       "0.015"
      ]
     },
     "execution_count": 296,
     "metadata": {},
     "output_type": "execute_result"
    }
   ],
   "source": [
    "p1_ace_per =  float(soup.findAll('td', {'align':'right'})[0].text[:-1])/100\n",
    "p1_ace_per"
   ]
  },
  {
   "cell_type": "code",
   "execution_count": 90,
   "metadata": {},
   "outputs": [
    {
     "data": {
      "text/plain": [
       "0.076"
      ]
     },
     "execution_count": 90,
     "metadata": {},
     "output_type": "execute_result"
    }
   ],
   "source": [
    "p1_df_per =  float(soup.findAll('td', {'align':'right'})[1].text[:-1])/100\n",
    "p1_df_per"
   ]
  },
  {
   "cell_type": "code",
   "execution_count": 91,
   "metadata": {},
   "outputs": [
    {
     "data": {
      "text/plain": [
       "0.591"
      ]
     },
     "execution_count": 91,
     "metadata": {},
     "output_type": "execute_result"
    }
   ],
   "source": [
    "p1_1stIn_per =  float(soup.findAll('td', {'align':'right'})[2].text[:-1])/100\n",
    "p1_1stIn_per"
   ]
  },
  {
   "cell_type": "code",
   "execution_count": 92,
   "metadata": {},
   "outputs": [
    {
     "data": {
      "text/plain": [
       "0.41"
      ]
     },
     "execution_count": 92,
     "metadata": {},
     "output_type": "execute_result"
    }
   ],
   "source": [
    "p1_1stW_per =  float(soup.findAll('td', {'align':'right'})[3].text[:-1])/100\n",
    "p1_1stW_per"
   ]
  },
  {
   "cell_type": "code",
   "execution_count": 93,
   "metadata": {},
   "outputs": [
    {
     "data": {
      "text/plain": [
       "0.185"
      ]
     },
     "execution_count": 93,
     "metadata": {},
     "output_type": "execute_result"
    }
   ],
   "source": [
    "p1_2ndIn_per =  float(soup.findAll('td', {'align':'right'})[4].text[:-1])/100\n",
    "p1_2ndIn_per"
   ]
  },
  {
   "cell_type": "code",
   "execution_count": 94,
   "metadata": {},
   "outputs": [
    {
     "data": {
      "text/plain": [
       "0.02"
      ]
     },
     "execution_count": 94,
     "metadata": {},
     "output_type": "execute_result"
    }
   ],
   "source": [
    "p2_ace_per =  float(soup.findAll('td', {'align':'right'})[9].text[:-1])/100\n",
    "p2_ace_per"
   ]
  },
  {
   "cell_type": "code",
   "execution_count": 96,
   "metadata": {},
   "outputs": [
    {
     "data": {
      "text/plain": [
       "0.02"
      ]
     },
     "execution_count": 96,
     "metadata": {},
     "output_type": "execute_result"
    }
   ],
   "source": [
    "p2_df_per =  float(soup.findAll('td', {'align':'right'})[10].text[:-1])/100\n",
    "p2_df_per"
   ]
  },
  {
   "cell_type": "code",
   "execution_count": 97,
   "metadata": {},
   "outputs": [
    {
     "data": {
      "text/plain": [
       "0.529"
      ]
     },
     "execution_count": 97,
     "metadata": {},
     "output_type": "execute_result"
    }
   ],
   "source": [
    "p2_1stIn_per =  float(soup.findAll('td', {'align':'right'})[11].text[:-1])/100\n",
    "p2_1stIn_per"
   ]
  },
  {
   "cell_type": "code",
   "execution_count": 98,
   "metadata": {},
   "outputs": [
    {
     "data": {
      "text/plain": [
       "0.9259999999999999"
      ]
     },
     "execution_count": 98,
     "metadata": {},
     "output_type": "execute_result"
    }
   ],
   "source": [
    "p2_1stW_per =  float(soup.findAll('td', {'align':'right'})[12].text[:-1])/100\n",
    "p2_1stW_per"
   ]
  },
  {
   "cell_type": "code",
   "execution_count": 99,
   "metadata": {},
   "outputs": [
    {
     "data": {
      "text/plain": [
       "0.542"
      ]
     },
     "execution_count": 99,
     "metadata": {},
     "output_type": "execute_result"
    }
   ],
   "source": [
    "p2_2ndIn_per =  float(soup.findAll('td', {'align':'right'})[13].text[:-1])/100\n",
    "p2_2ndIn_per"
   ]
  },
  {
   "cell_type": "markdown",
   "metadata": {},
   "source": [
    "### number of points won"
   ]
  },
  {
   "cell_type": "code",
   "execution_count": 335,
   "metadata": {},
   "outputs": [],
   "source": [
    "html2 = html_page.iloc[5][0]"
   ]
  },
  {
   "cell_type": "code",
   "execution_count": 336,
   "metadata": {},
   "outputs": [],
   "source": [
    "soup = BeautifulSoup(html2, 'html.parser')"
   ]
  },
  {
   "cell_type": "code",
   "execution_count": 132,
   "metadata": {},
   "outputs": [
    {
     "data": {
      "text/plain": [
       "21"
      ]
     },
     "execution_count": 132,
     "metadata": {},
     "output_type": "execute_result"
    }
   ],
   "source": [
    "p1_serve_ptswon = int(soup.findAll('td', {'align':'right'})[1].text.split(' ')[0])\n",
    "p1_serve_ptswon"
   ]
  },
  {
   "cell_type": "code",
   "execution_count": 135,
   "metadata": {},
   "outputs": [
    {
     "data": {
      "text/plain": [
       "0.32"
      ]
     },
     "execution_count": 135,
     "metadata": {},
     "output_type": "execute_result"
    }
   ],
   "source": [
    "p1_swin_per = soup.findAll('td', {'align':'right'})[1].text.split(' ')[-1]\n",
    "p1_swin_per2 = p1_swin_per[p1_swin_per.find(\"(\")+1:p1_swin_per.find(\")\")]\n",
    "p1_serve_win = float(p1_swin_per2.strip('%')) / 100.0\n",
    "p1_serve_win"
   ]
  },
  {
   "cell_type": "code",
   "execution_count": 140,
   "metadata": {},
   "outputs": [
    {
     "data": {
      "text/plain": [
       "38"
      ]
     },
     "execution_count": 140,
     "metadata": {},
     "output_type": "execute_result"
    }
   ],
   "source": [
    "p2_serve_ptswon = int(soup.findAll('td', {'align':'right'})[38].text.split(' ')[0])\n",
    "p2_serve_ptswon"
   ]
  },
  {
   "cell_type": "code",
   "execution_count": 141,
   "metadata": {},
   "outputs": [
    {
     "data": {
      "text/plain": [
       "0.75"
      ]
     },
     "execution_count": 141,
     "metadata": {},
     "output_type": "execute_result"
    }
   ],
   "source": [
    "p2_swin_per = soup.findAll('td', {'align':'right'})[38].text.split(' ')[-1]\n",
    "p2_swin_per2 = p2_swin_per[p2_swin_per.find(\"(\")+1:p2_swin_per.find(\")\")]\n",
    "p2_serve_win = float(p2_swin_per2.strip('%')) / 100.0\n",
    "p2_serve_win"
   ]
  },
  {
   "cell_type": "markdown",
   "metadata": {},
   "source": [
    "### set scores"
   ]
  },
  {
   "cell_type": "code",
   "execution_count": 278,
   "metadata": {},
   "outputs": [],
   "source": [
    "html_page1 = requests.get('http://tennisabstract.com/charting/20050117-M-Australian_Open-R128-Novak_Djokovic-Marat_Safin.html')\n",
    "soup1 = BeautifulSoup(html_page1.content, 'html.parser')"
   ]
  },
  {
   "cell_type": "code",
   "execution_count": 279,
   "metadata": {},
   "outputs": [
    {
     "data": {
      "text/plain": [
       "['Marat', 'Safin', 'd.', 'Novak', 'Djokovic', '6-0', '6-2', '6-1']"
      ]
     },
     "execution_count": 279,
     "metadata": {},
     "output_type": "execute_result"
    }
   ],
   "source": [
    "score_line = soup1.findAll('b')[0].text.split(' ')\n",
    "score_line"
   ]
  },
  {
   "cell_type": "code",
   "execution_count": 280,
   "metadata": {},
   "outputs": [
    {
     "data": {
      "text/plain": [
       "'6-0 6-2 6-1'"
      ]
     },
     "execution_count": 280,
     "metadata": {},
     "output_type": "execute_result"
    }
   ],
   "source": [
    "score = ' '.join([x for x in score_line if '-' in x])\n",
    "score"
   ]
  },
  {
   "cell_type": "code",
   "execution_count": 281,
   "metadata": {},
   "outputs": [
    {
     "data": {
      "text/plain": [
       "'Marat Safin '"
      ]
     },
     "execution_count": 281,
     "metadata": {},
     "output_type": "execute_result"
    }
   ],
   "source": [
    "winner = ' '.join([x for x in score_line if '-' not in x]).split('d.')[0]\n",
    "winner"
   ]
  },
  {
   "cell_type": "code",
   "execution_count": 282,
   "metadata": {},
   "outputs": [
    {
     "data": {
      "text/plain": [
       "' Novak Djokovic'"
      ]
     },
     "execution_count": 282,
     "metadata": {},
     "output_type": "execute_result"
    }
   ],
   "source": [
    "loser = ' '.join([x for x in score_line if '-' not in x]).split('d.')[1]\n",
    "loser"
   ]
  },
  {
   "cell_type": "code",
   "execution_count": 345,
   "metadata": {},
   "outputs": [
    {
     "data": {
      "text/plain": [
       "'Novak Djokovic'"
      ]
     },
     "execution_count": 345,
     "metadata": {},
     "output_type": "execute_result"
    }
   ],
   "source": [
    "p1 = soup.findAll('td', {'align':'left'})[0].text\n",
    "p1"
   ]
  },
  {
   "cell_type": "code",
   "execution_count": 346,
   "metadata": {},
   "outputs": [
    {
     "data": {
      "text/plain": [
       "'Marat Safin'"
      ]
     },
     "execution_count": 346,
     "metadata": {},
     "output_type": "execute_result"
    }
   ],
   "source": [
    "p2 = soup.findAll('td', {'align':'left'})[1].text\n",
    "p2"
   ]
  },
  {
   "cell_type": "code",
   "execution_count": 415,
   "metadata": {},
   "outputs": [],
   "source": [
    "w_pivot_df = pd.DataFrame()\n",
    "\n",
    "for x in womens_match_href_list:\n",
    "    try:\n",
    "        pv_dict = {}\n",
    "        pv_dict['match_id'] = x\n",
    "        \n",
    "################################\n",
    "################################\n",
    "################################\n",
    "\n",
    "        html_page = pd.read_table('http://www.tennisabstract.com/charting/'+str(x))\n",
    "        html = html_page.iloc[12][0]\n",
    "        soup = BeautifulSoup(html, 'html.parser')\n",
    "\n",
    "        #get ace percentage\n",
    "        p1_ace_per =  float(soup.findAll('td', {'align':'right'})[0].text[:-1])/100\n",
    "        p2_ace_per =  float(soup.findAll('td', {'align':'right'})[9].text[:-1])/100\n",
    "        \n",
    "        #get double fault percentage\n",
    "        p1_df_per =  float(soup.findAll('td', {'align':'right'})[1].text[:-1])/100\n",
    "        p2_df_per =  float(soup.findAll('td', {'align':'right'})[10].text[:-1])/100\n",
    "        \n",
    "        #get 1st serve in percentage\n",
    "        p1_1stIn_per =  float(soup.findAll('td', {'align':'right'})[2].text[:-1])/100\n",
    "        p2_1stIn_per =  float(soup.findAll('td', {'align':'right'})[11].text[:-1])/100\n",
    "        \n",
    "        #get 1st serve win percentage\n",
    "        p1_1stW_per =  float(soup.findAll('td', {'align':'right'})[3].text[:-1])/100\n",
    "        p2_1stW_per =  float(soup.findAll('td', {'align':'right'})[12].text[:-1])/100\n",
    "        \n",
    "        #get 2nd ser win percentage\n",
    "        p1_2ndW_per =  float(soup.findAll('td', {'align':'right'})[4].text[:-1])/100\n",
    "        p2_2ndW_per =  float(soup.findAll('td', {'align':'right'})[13].text[:-1])/100\n",
    "        \n",
    "        p1 = soup.findAll('td', {'align':'left'})[0].text\n",
    "        p2 = soup.findAll('td', {'align':'left'})[1].text\n",
    "                \n",
    "################################\n",
    "################################\n",
    "################################\n",
    "\n",
    "        html2 = html_page.iloc[5][0]\n",
    "        soup2 = BeautifulSoup(html2, 'html.parser')\n",
    "        \n",
    "        #points won on serve\n",
    "        p1_serve_ptswon = int(soup2.findAll('td', {'align':'right'})[1].text.split(' ')[0])\n",
    "        p2_serve_ptswon = int(soup2.findAll('td', {'align':'right'})[38].text.split(' ')[0])\n",
    "        \n",
    "        #win percentage on point played on serve\n",
    "        p1_swin_per = soup2.findAll('td', {'align':'right'})[1].text.split(' ')[-1]\n",
    "        p1_swin_per2 = p1_swin_per[p1_swin_per.find(\"(\")+1:p1_swin_per.find(\")\")]\n",
    "        p1_serve_win = float(p1_swin_per2.strip('%')) / 100.0\n",
    "        \n",
    "        p2_swin_per = soup2.findAll('td', {'align':'right'})[38].text.split(' ')[-1]\n",
    "        p2_swin_per2 = p2_swin_per[p2_swin_per.find(\"(\")+1:p2_swin_per.find(\")\")]\n",
    "        p2_serve_win = float(p2_swin_per2.strip('%')) / 100.0\n",
    "        \n",
    "################################\n",
    "################################\n",
    "################################\n",
    "\n",
    "        html_page1 = requests.get('http://www.tennisabstract.com/charting/'+str(x))\n",
    "        soup3 = BeautifulSoup(html_page1.content, 'html.parser')\n",
    "        \n",
    "        #get scores for match\n",
    "        score_line = soup3.findAll('b')[0].text.split(' ')\n",
    "        score = ' '.join([x for x in score_line if '-' in x])\n",
    "        \n",
    "        winner = ' '.join([x for x in score_line if '-' not in x]).split('d.')[0]\n",
    "        loser = ' '.join([x for x in score_line if '-' not in x]).split('d.')[1]\n",
    "        \n",
    "################################\n",
    "################################\n",
    "################################\n",
    "        \n",
    "        #append to pv_dict\n",
    "        pv_dict['p1_ace_per'] = p1_ace_per\n",
    "        pv_dict['p2_ace_per'] = p2_ace_per\n",
    "        pv_dict['p1_df_per'] = p1_df_per\n",
    "        pv_dict['p2_df_per'] = p2_df_per\n",
    "        pv_dict['p1_1stIn_per'] = p1_1stIn_per\n",
    "        pv_dict['p2_1stIn_per'] = p2_1stIn_per\n",
    "        pv_dict['p1_1stW_per'] = p1_1stW_per\n",
    "        pv_dict['p2_1stW_per'] = p2_1stW_per\n",
    "        pv_dict['p1_2ndW_per'] = p1_2ndW_per\n",
    "        pv_dict['p2_2ndW_per'] = p2_2ndW_per\n",
    "        pv_dict['p1_serve_ptswon'] = p1_serve_ptswon\n",
    "        pv_dict['p2_serve_ptswon'] = p2_serve_ptswon\n",
    "        pv_dict['p1_serve_win'] = p1_serve_win\n",
    "        pv_dict['p2_serve_win'] = p2_serve_win\n",
    "        pv_dict['score'] = score\n",
    "        pv_dict['winner'] = winner\n",
    "        pv_dict['loser'] = loser\n",
    "        pv_dict['p1'] = p1\n",
    "        pv_dict['p2'] = p2\n",
    "\n",
    "        w_pivot_df = w_pivot_df.append(pv_dict, ignore_index=True)\n",
    "    except:\n",
    "        pass"
   ]
  },
  {
   "cell_type": "code",
   "execution_count": 416,
   "metadata": {},
   "outputs": [],
   "source": [
    "w_pivot_df.to_csv('w_pivot_df.txt', sep='\\t')"
   ]
  },
  {
   "cell_type": "code",
   "execution_count": 417,
   "metadata": {},
   "outputs": [],
   "source": [
    "w_pivot_df = pd.read_csv('w_pivot_df.txt', sep='\\t')"
   ]
  },
  {
   "cell_type": "code",
   "execution_count": 418,
   "metadata": {},
   "outputs": [
    {
     "data": {
      "text/plain": [
       "(2180, 21)"
      ]
     },
     "execution_count": 418,
     "metadata": {},
     "output_type": "execute_result"
    }
   ],
   "source": [
    "w_pivot_df.shape"
   ]
  },
  {
   "cell_type": "code",
   "execution_count": 414,
   "metadata": {},
   "outputs": [
    {
     "data": {
      "text/plain": [
       "4360"
      ]
     },
     "execution_count": 414,
     "metadata": {},
     "output_type": "execute_result"
    }
   ],
   "source": [
    "len(w_pivot_df)"
   ]
  },
  {
   "cell_type": "code",
   "execution_count": 356,
   "metadata": {},
   "outputs": [
    {
     "data": {
      "text/plain": [
       "Unnamed: 0                                                         0\n",
       "loser                                          Juan Martin Del Potro\n",
       "match_id           20180711-M-Wimbledon-QF-Rafael_Nadal-Juan_Mart...\n",
       "p1                                                      Rafael Nadal\n",
       "p1_1stIn_per                                                   0.699\n",
       "p1_1stW_per                                                    0.741\n",
       "p1_2ndW_per                                                     0.62\n",
       "p1_ace_per                                                     0.018\n",
       "p1_df_per                                                       0.03\n",
       "p1_serve_ptswon                                                  117\n",
       "p1_serve_win                                                     0.7\n",
       "p2                                             Juan Martin Del Potro\n",
       "p2_1stIn_per                                                   0.634\n",
       "p2_1stW_per                                                    0.775\n",
       "p2_2ndW_per                                                    0.453\n",
       "p2_ace_per                                                     0.189\n",
       "p2_df_per                                                       0.04\n",
       "p2_serve_ptswon                                                  115\n",
       "p2_serve_win                                                    0.66\n",
       "score                                         7-5 6-7(7) 4-6 6-4 6-4\n",
       "winner                                                 Rafael Nadal \n",
       "Name: 0, dtype: object"
      ]
     },
     "execution_count": 356,
     "metadata": {},
     "output_type": "execute_result"
    }
   ],
   "source": [
    "pivot_df.iloc[0]"
   ]
  },
  {
   "cell_type": "code",
   "execution_count": 319,
   "metadata": {},
   "outputs": [
    {
     "data": {
      "text/plain": [
       "Index(['Unnamed: 0', 'loser', 'match_id', 'p1', 'p1_1stIn_per', 'p1_1stW_per',\n",
       "       'p1_2ndW_per', 'p1_ace_per', 'p1_df_per', 'p1_serve_ptswon',\n",
       "       'p1_serve_win', 'p2', 'p2_1stIn_per', 'p2_1stW_per', 'p2_2ndW_per',\n",
       "       'p2_ace_per', 'p2_df_per', 'p2_serve_ptswon', 'p2_serve_win', 'score',\n",
       "       'winner'],\n",
       "      dtype='object')"
      ]
     },
     "execution_count": 319,
     "metadata": {},
     "output_type": "execute_result"
    }
   ],
   "source": [
    "pivot_df.columns"
   ]
  },
  {
   "cell_type": "code",
   "execution_count": 312,
   "metadata": {},
   "outputs": [
    {
     "data": {
      "text/plain": [
       "(2265, 21)"
      ]
     },
     "execution_count": 312,
     "metadata": {},
     "output_type": "execute_result"
    }
   ],
   "source": [
    "pivot_df.shape"
   ]
  },
  {
   "cell_type": "code",
   "execution_count": 419,
   "metadata": {},
   "outputs": [],
   "source": [
    "w_tennis_abstract_df = pd.DataFrame()\n",
    "\n",
    "for x in womens_match_href_list:\n",
    "    try:\n",
    "        ta_dict = {}\n",
    "        ta_dict['match_id'] = x\n",
    "        \n",
    "################################\n",
    "################################\n",
    "################################\n",
    "\n",
    "        html_page = pd.read_table('http://www.tennisabstract.com/charting/'+str(x))\n",
    "        html = html_page.iloc[10][0]\n",
    "        soup = BeautifulSoup(html, 'html.parser')\n",
    "\n",
    "        #get break points saved percentage for p1\n",
    "        p1_bp = soup.findAll('td', {'align':'right'})[1].text\n",
    "        p1_bp2 = p1_bp[p1_bp.find(\"(\")+1:p1_bp.find(\")\")]\n",
    "        p1_bp_saved = float(p1_bp2.strip('%')) / 100.0\n",
    "        \n",
    "        #get break points saved percentage for p2\n",
    "        p2_bp = soup.findAll('td', {'align':'right'})[10].text\n",
    "        p2_bp2 = p2_bp[p2_bp.find(\"(\")+1:p2_bp.find(\")\")]\n",
    "        p2_bp_saved = float(p2_bp2.strip('%')) / 100.0\n",
    "        \n",
    "        #p1 game points won\n",
    "        p1_gp = soup.findAll('td', {'align':'right'})[85].text\n",
    "        p1_gp2 = p1_gp[p1_gp.find(\"(\")+1:p1_gp.find(\")\")]\n",
    "        p1_gp_won = float(p1_gp2.strip('%')) / 100.0\n",
    "        \n",
    "        #p2 game points won\n",
    "        p2_gp = soup.findAll('td', {'align':'right'})[94].text\n",
    "        p2_gp2 = p2_gp[p2_gp.find(\"(\")+1:p2_gp.find(\")\")]\n",
    "        p2_gp_won = float(p2_gp2.strip('%')) / 100.0\n",
    "        \n",
    "################################       \n",
    "################################\n",
    "################################\n",
    "\n",
    "        html2 = html_page.iloc[8][0]\n",
    "        soup2 = BeautifulSoup(html2, 'html.parser')\n",
    "        \n",
    "        #p1 total return points faced\n",
    "        p1_num_rtpts = int(soup2.findAll('td', {'align':'right'})[0].text)\n",
    "        \n",
    "        #p1 return points won\n",
    "        p1_rt = soup2.findAll('td', {'align':'right'})[1].text\n",
    "        p1_rt2 = p1_rt[p1_rt.find(\"(\")+1:p1_rt.find(\")\")]\n",
    "        p1_ret_won = float(p1_rt2.strip('%')) / 100.0\n",
    "        \n",
    "        \n",
    "        #p1 return points in play\n",
    "        p1_rtip = soup2.findAll('td', {'align':'right'})[4].text\n",
    "        p1_rtip2 = int(p1_rtip.split(' ')[0])\n",
    "        p1_ret_inplay = p1_rtip2/p1_num_rtpts\n",
    "        \n",
    "        p1_ret_avg_rally = float(soup2.findAll('td', {'align':'right'})[7].text)\n",
    "        p1_total_shots = p1_ret_avg_rally * p1_num_rtpts\n",
    "\n",
    "################################      \n",
    "################################\n",
    "################################       \n",
    "\n",
    "        html3 = html_page.iloc[9][0]\n",
    "        soup3 = BeautifulSoup(html3, 'html.parser')\n",
    "        \n",
    "        \n",
    "        #p2 total return points faced\n",
    "        p2_num_rtpts = int(soup3.findAll('td', {'align':'right'})[0].text)\n",
    "        \n",
    "        #p2 return points won\n",
    "        p2_rt = soup3.findAll('td', {'align':'right'})[1].text\n",
    "        p2_rt2 = p2_rt[p2_rt.find(\"(\")+1:p2_rt.find(\")\")]\n",
    "        p2_ret_won = float(p2_rt2.strip('%')) / 100.0\n",
    "        \n",
    "        \n",
    "        #p2 return points in play\n",
    "        p2_rtip = soup3.findAll('td', {'align':'right'})[4].text\n",
    "        p2_rtip2 = int(p2_rtip.split(' ')[0])\n",
    "        p2_ret_inplay = p2_rtip2/p2_num_rtpts\n",
    "        \n",
    "        p2_ret_avg_rally = float(soup3.findAll('td', {'align':'right'})[7].text)\n",
    "        p2_total_shots = p2_ret_avg_rally * p2_num_rtpts\n",
    "        \n",
    "        #average rally length\n",
    "        avg_rally_len = (p1_total_shots + p2_total_shots)/(p2_num_rtpts + p1_num_rtpts)\n",
    "\n",
    "################################\n",
    "################################\n",
    "################################\n",
    "        \n",
    "        html4 = html_page.iloc[17][0]\n",
    "        soup4 = BeautifulSoup(html4, 'html.parser')\n",
    "        \n",
    "        #p1 total points at net\n",
    "        p1_netpts = int(soup4.findAll('td', {'align':'right'})[0].text)\n",
    "        \n",
    "        #p1 net points won\n",
    "        p1_np = soup4.findAll('td', {'align':'right'})[1].text\n",
    "        p1_np2 = p1_np[p1_np.find(\"(\")+1:p1_np.find(\")\")]\n",
    "        p1_netwon = float(p1_np2.strip('%')) / 100.0\n",
    "        \n",
    "        #p1 net errors\n",
    "        p1_ne = soup4.findAll('td', {'align':'right'})[4].text\n",
    "        p1_ne2 = p1_ne[p1_ne.find(\"(\")+1:p1_ne.find(\")\")]\n",
    "        p1_neterrors = float(p1_ne2.strip('%')) / 100.0\n",
    "        \n",
    "        #p1 passed at net\n",
    "        p1_pan = soup4.findAll('td', {'align':'right'})[5].text\n",
    "        p1_pan2 = p1_pan[p1_pan.find(\"(\")+1:p1_pan.find(\")\")]\n",
    "        p1_netpassed = float(p1_pan2.strip('%')) / 100.0\n",
    "\n",
    "################################\n",
    "################################\n",
    "################################\n",
    "             \n",
    "        html5 = html_page.iloc[18][0]\n",
    "        soup5 = BeautifulSoup(html5, 'html.parser')\n",
    "        \n",
    "        #p2 total points at net\n",
    "        p2_netpts = int(soup5.findAll('td', {'align':'right'})[0].text)\n",
    "        \n",
    "        #p2 net points won\n",
    "        p2_np = soup5.findAll('td', {'align':'right'})[1].text\n",
    "        p2_np2 = p2_np[p2_np.find(\"(\")+1:p2_np.find(\")\")]\n",
    "        p2_netwon = float(p2_np2.strip('%')) / 100.0\n",
    "        \n",
    "        #p2 net errors\n",
    "        p2_ne = soup5.findAll('td', {'align':'right'})[4].text\n",
    "        p2_ne2 = p2_ne[p2_ne.find(\"(\")+1:p2_ne.find(\")\")]\n",
    "        p2_neterrors = float(p2_ne2.strip('%')) / 100.0\n",
    "        \n",
    "        #p2 passed at net\n",
    "        p2_pan = soup5.findAll('td', {'align':'right'})[5].text\n",
    "        p2_pan2 = p2_pan[p2_pan.find(\"(\")+1:p2_pan.find(\")\")]\n",
    "        p2_netpassed = float(p2_pan2.strip('%')) / 100.0\n",
    "        \n",
    "        #p1 points at net percent\n",
    "        p1_netpts_per = p1_netpts/(p1_num_rtpts + p2_num_rtpts)\n",
    "        \n",
    "        #p2 points at net percent\n",
    "        p2_netpts_per = p2_netpts/(p1_num_rtpts + p2_num_rtpts)\n",
    "        \n",
    "        #append to ta_dict\n",
    "        ta_dict['p1_bp_saved'] = p1_bp_saved\n",
    "        ta_dict['p2_bp_saved'] = p2_bp_saved\n",
    "        ta_dict['p1_gp_won'] = p1_gp_won\n",
    "        ta_dict['p2_gp_won'] = p2_gp_won\n",
    "        ta_dict['p1_num_rtpts'] = p1_num_rtpts\n",
    "        ta_dict['p1_ret_won'] = p1_ret_won\n",
    "        ta_dict['p1_ret_inplay'] = p1_ret_inplay\n",
    "        ta_dict['p2_num_rtpts'] = p2_num_rtpts\n",
    "        ta_dict['p2_ret_won'] = p2_ret_won\n",
    "        ta_dict['p2_ret_inplay'] = p2_ret_inplay\n",
    "        ta_dict['avg_rally_len'] = avg_rally_len\n",
    "        ta_dict['p1_netpts'] = p1_netpts\n",
    "        ta_dict['p1_netpts_per'] = p1_netpts_per\n",
    "        ta_dict['p1_netwon'] = p1_netwon\n",
    "        ta_dict['p1_neterrors'] = p1_neterrors\n",
    "        ta_dict['p1_netpassed'] = p1_netpassed\n",
    "        ta_dict['p2_netpts'] = p2_netpts\n",
    "        ta_dict['p2_netpts_per'] = p2_netpts_per\n",
    "        ta_dict['p2_netwon'] = p2_netwon\n",
    "        ta_dict['p2_neterrors'] = p2_neterrors\n",
    "        ta_dict['p2_netpassed'] = p2_netpassed\n",
    "        \n",
    "        w_tennis_abstract_df = w_tennis_abstract_df.append(ta_dict, ignore_index=True)\n",
    "    except:\n",
    "        pass"
   ]
  },
  {
   "cell_type": "code",
   "execution_count": 420,
   "metadata": {},
   "outputs": [],
   "source": [
    "w_tennis_abstract_df.to_csv('w_tennis_abstract_df.txt', sep='\\t')"
   ]
  },
  {
   "cell_type": "code",
   "execution_count": 421,
   "metadata": {},
   "outputs": [],
   "source": [
    "wta_df = pd.read_csv('w_tennis_abstract_df.txt', sep='\\t')"
   ]
  },
  {
   "cell_type": "code",
   "execution_count": 422,
   "metadata": {},
   "outputs": [
    {
     "data": {
      "text/plain": [
       "(2083, 23)"
      ]
     },
     "execution_count": 422,
     "metadata": {},
     "output_type": "execute_result"
    }
   ],
   "source": [
    "wta_df.shape"
   ]
  },
  {
   "cell_type": "code",
   "execution_count": 423,
   "metadata": {},
   "outputs": [
    {
     "data": {
      "text/html": [
       "<div>\n",
       "<style scoped>\n",
       "    .dataframe tbody tr th:only-of-type {\n",
       "        vertical-align: middle;\n",
       "    }\n",
       "\n",
       "    .dataframe tbody tr th {\n",
       "        vertical-align: top;\n",
       "    }\n",
       "\n",
       "    .dataframe thead th {\n",
       "        text-align: right;\n",
       "    }\n",
       "</style>\n",
       "<table border=\"1\" class=\"dataframe\">\n",
       "  <thead>\n",
       "    <tr style=\"text-align: right;\">\n",
       "      <th></th>\n",
       "      <th>Unnamed: 0</th>\n",
       "      <th>avg_rally_len</th>\n",
       "      <th>match_id</th>\n",
       "      <th>p1_bp_saved</th>\n",
       "      <th>p1_gp_won</th>\n",
       "      <th>p1_neterrors</th>\n",
       "      <th>p1_netpassed</th>\n",
       "      <th>p1_netpts</th>\n",
       "      <th>p1_netpts_per</th>\n",
       "      <th>p1_netwon</th>\n",
       "      <th>...</th>\n",
       "      <th>p2_bp_saved</th>\n",
       "      <th>p2_gp_won</th>\n",
       "      <th>p2_neterrors</th>\n",
       "      <th>p2_netpassed</th>\n",
       "      <th>p2_netpts</th>\n",
       "      <th>p2_netpts_per</th>\n",
       "      <th>p2_netwon</th>\n",
       "      <th>p2_num_rtpts</th>\n",
       "      <th>p2_ret_inplay</th>\n",
       "      <th>p2_ret_won</th>\n",
       "    </tr>\n",
       "  </thead>\n",
       "  <tbody>\n",
       "    <tr>\n",
       "      <th>0</th>\n",
       "      <td>0</td>\n",
       "      <td>4.456000</td>\n",
       "      <td>20170531-W-Roland_Garros-R64-Catherine_Cartan_...</td>\n",
       "      <td>0.50</td>\n",
       "      <td>0.53</td>\n",
       "      <td>0.00</td>\n",
       "      <td>0.00</td>\n",
       "      <td>7.0</td>\n",
       "      <td>0.046667</td>\n",
       "      <td>0.86</td>\n",
       "      <td>...</td>\n",
       "      <td>0.44</td>\n",
       "      <td>0.52</td>\n",
       "      <td>0.18</td>\n",
       "      <td>0.00</td>\n",
       "      <td>11.0</td>\n",
       "      <td>0.073333</td>\n",
       "      <td>0.73</td>\n",
       "      <td>81.0</td>\n",
       "      <td>0.802469</td>\n",
       "      <td>0.46</td>\n",
       "    </tr>\n",
       "    <tr>\n",
       "      <th>1</th>\n",
       "      <td>1</td>\n",
       "      <td>3.819118</td>\n",
       "      <td>20150312-W-Indian_Wells-R128-Anna_Karolina_Sch...</td>\n",
       "      <td>0.53</td>\n",
       "      <td>0.35</td>\n",
       "      <td>0.00</td>\n",
       "      <td>0.14</td>\n",
       "      <td>7.0</td>\n",
       "      <td>0.051471</td>\n",
       "      <td>0.71</td>\n",
       "      <td>...</td>\n",
       "      <td>0.82</td>\n",
       "      <td>0.57</td>\n",
       "      <td>0.00</td>\n",
       "      <td>0.13</td>\n",
       "      <td>15.0</td>\n",
       "      <td>0.110294</td>\n",
       "      <td>0.80</td>\n",
       "      <td>62.0</td>\n",
       "      <td>0.741935</td>\n",
       "      <td>0.63</td>\n",
       "    </tr>\n",
       "    <tr>\n",
       "      <th>2</th>\n",
       "      <td>2</td>\n",
       "      <td>5.936364</td>\n",
       "      <td>20160126-W-Australian_Open-QF-Carla_Suarez_Nav...</td>\n",
       "      <td>0.50</td>\n",
       "      <td>0.33</td>\n",
       "      <td>0.05</td>\n",
       "      <td>0.11</td>\n",
       "      <td>19.0</td>\n",
       "      <td>0.157025</td>\n",
       "      <td>0.79</td>\n",
       "      <td>...</td>\n",
       "      <td>0.75</td>\n",
       "      <td>0.64</td>\n",
       "      <td>0.00</td>\n",
       "      <td>0.15</td>\n",
       "      <td>13.0</td>\n",
       "      <td>0.107438</td>\n",
       "      <td>0.62</td>\n",
       "      <td>66.0</td>\n",
       "      <td>0.787879</td>\n",
       "      <td>0.56</td>\n",
       "    </tr>\n",
       "    <tr>\n",
       "      <th>3</th>\n",
       "      <td>3</td>\n",
       "      <td>3.521649</td>\n",
       "      <td>20140113-W-Australian_Open-R128-Ana_Konjuh-Na_...</td>\n",
       "      <td>0.58</td>\n",
       "      <td>0.44</td>\n",
       "      <td>0.60</td>\n",
       "      <td>0.00</td>\n",
       "      <td>5.0</td>\n",
       "      <td>0.051546</td>\n",
       "      <td>0.40</td>\n",
       "      <td>...</td>\n",
       "      <td>1.00</td>\n",
       "      <td>0.61</td>\n",
       "      <td>0.17</td>\n",
       "      <td>0.06</td>\n",
       "      <td>18.0</td>\n",
       "      <td>0.185567</td>\n",
       "      <td>0.72</td>\n",
       "      <td>52.0</td>\n",
       "      <td>0.769231</td>\n",
       "      <td>0.58</td>\n",
       "    </tr>\n",
       "    <tr>\n",
       "      <th>4</th>\n",
       "      <td>4</td>\n",
       "      <td>5.366055</td>\n",
       "      <td>20180127-W-Australian_Open-F-Caroline_Wozniack...</td>\n",
       "      <td>0.58</td>\n",
       "      <td>0.56</td>\n",
       "      <td>0.06</td>\n",
       "      <td>0.00</td>\n",
       "      <td>18.0</td>\n",
       "      <td>0.082569</td>\n",
       "      <td>0.78</td>\n",
       "      <td>...</td>\n",
       "      <td>0.64</td>\n",
       "      <td>0.57</td>\n",
       "      <td>0.00</td>\n",
       "      <td>0.00</td>\n",
       "      <td>15.0</td>\n",
       "      <td>0.068807</td>\n",
       "      <td>0.93</td>\n",
       "      <td>102.0</td>\n",
       "      <td>0.754902</td>\n",
       "      <td>0.40</td>\n",
       "    </tr>\n",
       "  </tbody>\n",
       "</table>\n",
       "<p>5 rows × 23 columns</p>\n",
       "</div>"
      ],
      "text/plain": [
       "   Unnamed: 0  avg_rally_len  \\\n",
       "0           0       4.456000   \n",
       "1           1       3.819118   \n",
       "2           2       5.936364   \n",
       "3           3       3.521649   \n",
       "4           4       5.366055   \n",
       "\n",
       "                                            match_id  p1_bp_saved  p1_gp_won  \\\n",
       "0  20170531-W-Roland_Garros-R64-Catherine_Cartan_...         0.50       0.53   \n",
       "1  20150312-W-Indian_Wells-R128-Anna_Karolina_Sch...         0.53       0.35   \n",
       "2  20160126-W-Australian_Open-QF-Carla_Suarez_Nav...         0.50       0.33   \n",
       "3  20140113-W-Australian_Open-R128-Ana_Konjuh-Na_...         0.58       0.44   \n",
       "4  20180127-W-Australian_Open-F-Caroline_Wozniack...         0.58       0.56   \n",
       "\n",
       "   p1_neterrors  p1_netpassed  p1_netpts  p1_netpts_per  p1_netwon  \\\n",
       "0          0.00          0.00        7.0       0.046667       0.86   \n",
       "1          0.00          0.14        7.0       0.051471       0.71   \n",
       "2          0.05          0.11       19.0       0.157025       0.79   \n",
       "3          0.60          0.00        5.0       0.051546       0.40   \n",
       "4          0.06          0.00       18.0       0.082569       0.78   \n",
       "\n",
       "      ...      p2_bp_saved  p2_gp_won  p2_neterrors  p2_netpassed  p2_netpts  \\\n",
       "0     ...             0.44       0.52          0.18          0.00       11.0   \n",
       "1     ...             0.82       0.57          0.00          0.13       15.0   \n",
       "2     ...             0.75       0.64          0.00          0.15       13.0   \n",
       "3     ...             1.00       0.61          0.17          0.06       18.0   \n",
       "4     ...             0.64       0.57          0.00          0.00       15.0   \n",
       "\n",
       "   p2_netpts_per  p2_netwon  p2_num_rtpts  p2_ret_inplay  p2_ret_won  \n",
       "0       0.073333       0.73          81.0       0.802469        0.46  \n",
       "1       0.110294       0.80          62.0       0.741935        0.63  \n",
       "2       0.107438       0.62          66.0       0.787879        0.56  \n",
       "3       0.185567       0.72          52.0       0.769231        0.58  \n",
       "4       0.068807       0.93         102.0       0.754902        0.40  \n",
       "\n",
       "[5 rows x 23 columns]"
      ]
     },
     "execution_count": 423,
     "metadata": {},
     "output_type": "execute_result"
    }
   ],
   "source": [
    "wta_df.head()"
   ]
  },
  {
   "cell_type": "code",
   "execution_count": 425,
   "metadata": {},
   "outputs": [],
   "source": [
    "w_tennis_abstract_df = pd.DataFrame()\n",
    "\n",
    "for x in womens_match_href_list:\n",
    "    try:\n",
    "        ta_dict = {}\n",
    "        ta_dict['match_id'] = x\n",
    "        \n",
    "################################\n",
    "################################\n",
    "################################\n",
    "\n",
    "        html_page = pd.read_table('http://www.tennisabstract.com/charting/'+str(x))\n",
    "\n",
    "        html6 = html_page.iloc[13][0]\n",
    "        soup6 = BeautifulSoup(html6, 'html.parser')\n",
    "        \n",
    "        #p1 total shots\n",
    "        p1_total_shots = int(soup6.findAll('td', {'align':'right'})[0].text)\n",
    "        \n",
    "        #p1 forehand shots percent\n",
    "        p1_forehand_shots = int(soup6.findAll('td', {'align':'right'})[17].text)\n",
    "        p1_forehand_per = p1_forehand_shots/p1_total_shots\n",
    "        \n",
    "        #p1 backhand shots percent\n",
    "        p1_backhand_shots = int(soup6.findAll('td', {'align':'right'})[25].text)\n",
    "        p1_backhand_per = p1_backhand_shots/p1_total_shots\n",
    "        \n",
    "################################\n",
    "################################\n",
    "################################\n",
    "           \n",
    "        html7 = html_page.iloc[14][0]\n",
    "        soup7 = BeautifulSoup(html7, 'html.parser')\n",
    "        \n",
    "        #p2 total shots\n",
    "        p2_total_shots = int(soup7.findAll('td', {'align':'right'})[0].text)\n",
    "        \n",
    "        #p2 forehand shots percent\n",
    "        p2_forehand_shots = int(soup7.findAll('td', {'align':'right'})[17].text)\n",
    "        p2_forehand_per = p2_forehand_shots/p2_total_shots\n",
    "        \n",
    "        #p2 backhand shots percent\n",
    "        p2_backhand_shots = int(soup7.findAll('td', {'align':'right'})[25].text)\n",
    "        p2_backhand_per = p2_backhand_shots/p2_total_shots\n",
    "        \n",
    "################################\n",
    "################################\n",
    "################################\n",
    "           \n",
    "        html8 = html_page.iloc[15][0]\n",
    "        soup8 = BeautifulSoup(html8, 'html.parser')\n",
    "        \n",
    "        #p1 cross court shot percent\n",
    "        p1_cs = soup8.findAll('td', {'align':'right'})[0].text\n",
    "        p1_cs2 = p1_cs[p1_cs.find(\"(\")+1:p1_cs.find(\")\")]\n",
    "        p1_cc = float(p1_cs2.strip('%')) / 100.0\n",
    "        \n",
    "        #p1 down middle shot percent\n",
    "        p1_dms = soup8.findAll('td', {'align':'right'})[1].text\n",
    "        p1_dms2 = p1_dms[p1_dms.find(\"(\")+1:p1_dms.find(\")\")]\n",
    "        p1_dm = float(p1_dms2.strip('%')) / 100.0\n",
    "        \n",
    "        #p1 down line shot percent\n",
    "        p1_dls = soup8.findAll('td', {'align':'right'})[2].text\n",
    "        p1_dls2 = p1_dls[p1_dls.find(\"(\")+1:p1_dls.find(\")\")]\n",
    "        p1_dl = float(p1_dls2.strip('%')) / 100.0\n",
    "        \n",
    "        #p1 inside out shot percent\n",
    "        p1_ios = soup8.findAll('td', {'align':'right'})[3].text\n",
    "        p1_ios2 = p1_ios[p1_ios.find(\"(\")+1:p1_ios.find(\")\")]\n",
    "        p1_io = float(p1_ios2.strip('%')) / 100.0\n",
    "        \n",
    "        #p1 inside in shot percent\n",
    "        p1_iis = soup8.findAll('td', {'align':'right'})[4].text\n",
    "        p1_iis2 = p1_iis[p1_iis.find(\"(\")+1:p1_iis.find(\")\")]\n",
    "        p1_ii = float(p1_iis2.strip('%')) / 100.0\n",
    "              \n",
    "################################\n",
    "################################\n",
    "################################\n",
    "           \n",
    "        html9 = html_page.iloc[16][0]\n",
    "        soup9 = BeautifulSoup(html9, 'html.parser')\n",
    "        \n",
    "        #p2 cross court shot percent\n",
    "        p2_cs = soup9.findAll('td', {'align':'right'})[0].text\n",
    "        p2_cs2 = p2_cs[p2_cs.find(\"(\")+1:p2_cs.find(\")\")]\n",
    "        p2_cc = float(p2_cs2.strip('%')) / 100.0\n",
    "        \n",
    "        #p2 down middle shot percent\n",
    "        p2_dms = soup9.findAll('td', {'align':'right'})[1].text\n",
    "        p2_dms2 = p2_dms[p2_dms.find(\"(\")+1:p2_dms.find(\")\")]\n",
    "        p2_dm = float(p2_dms2.strip('%')) / 100.0\n",
    "        \n",
    "        #p2 down line shot percent\n",
    "        p2_dls = soup9.findAll('td', {'align':'right'})[2].text\n",
    "        p2_dls2 = p2_dls[p2_dls.find(\"(\")+1:p2_dls.find(\")\")]\n",
    "        p2_dl = float(p2_dls2.strip('%')) / 100.0\n",
    "        \n",
    "        #p2 inside out shot percent\n",
    "        p2_ios = soup9.findAll('td', {'align':'right'})[3].text\n",
    "        p2_ios2 = p2_ios[p2_ios.find(\"(\")+1:p2_ios.find(\")\")]\n",
    "        p2_io = float(p2_ios2.strip('%')) / 100.0\n",
    "        \n",
    "        #p2 inside in shot percent\n",
    "        p2_iis = soup9.findAll('td', {'align':'right'})[4].text\n",
    "        p2_iis2 = p2_iis[p2_iis.find(\"(\")+1:p2_iis.find(\")\")]\n",
    "        p2_ii = float(p2_iis2.strip('%')) / 100.0\n",
    "                         \n",
    "################################\n",
    "################################\n",
    "################################\n",
    "\n",
    "        #append to ta_dict\n",
    "        ta_dict['p1_forehand_per'] = p1_forehand_per\n",
    "        ta_dict['p1_backhand_per'] = p1_backhand_per\n",
    "        ta_dict['p2_forehand_per'] = p2_forehand_per\n",
    "        ta_dict['p2_backhand_per'] = p2_backhand_per\n",
    "        ta_dict['p1_cc'] = p1_cc\n",
    "        ta_dict['p1_dm'] = p1_dm\n",
    "        ta_dict['p1_dl'] = p1_dl\n",
    "        ta_dict['p1_io'] = p1_io\n",
    "        ta_dict['p1_ii'] = p1_ii\n",
    "        ta_dict['p2_cc'] = p2_cc\n",
    "        ta_dict['p2_dm'] = p2_dm\n",
    "        ta_dict['p2_dl'] = p2_dl\n",
    "        ta_dict['p2_io'] = p2_io\n",
    "        ta_dict['p2_ii'] = p2_ii\n",
    "\n",
    "        w_tennis_abstract_df = w_tennis_abstract_df.append(ta_dict, ignore_index=True)\n",
    "    except:\n",
    "        pass"
   ]
  },
  {
   "cell_type": "code",
   "execution_count": 427,
   "metadata": {},
   "outputs": [],
   "source": [
    "w_tennis_abstract_df.to_csv('w_tennis_abstract_df2.txt', sep='\\t')"
   ]
  },
  {
   "cell_type": "code",
   "execution_count": 428,
   "metadata": {},
   "outputs": [],
   "source": [
    "w_tennis_abstract_df2 = pd.read_csv('w_tennis_abstract_df2.txt', sep='\\t')"
   ]
  },
  {
   "cell_type": "code",
   "execution_count": 434,
   "metadata": {},
   "outputs": [],
   "source": [
    "w_we_df_full = pd.DataFrame()\n",
    "\n",
    "for x in womens_match_href_list:\n",
    "    try:\n",
    "        we_dict = {}\n",
    "        we_dict['match_id'] = x\n",
    "\n",
    "        #get down to correct html on page\n",
    "        html_page = pd.read_table('http://www.tennisabstract.com/charting/'+str(x))\n",
    "        html = html_page.iloc[12][0]\n",
    "        soup = BeautifulSoup(html, 'html.parser')\n",
    "\n",
    "        #get winners for p1\n",
    "        p1_w = soup.findAll('td', {'align':'right'})[7].text\n",
    "        p1_wfb = p1_w[p1_w.find(\"(\")+1:p1_w.find(\")\")]\n",
    "        p1_fw, p1_bw = p1_wfb.split('/')\n",
    "\n",
    "        #get errors for p1\n",
    "        p1_e = soup.findAll('td', {'align':'right'})[8].text\n",
    "        p1_efb = p1_e[p1_e.find(\"(\")+1:p1_e.find(\")\")]\n",
    "        p1_fe, p1_be = p1_efb.split('/')\n",
    "\n",
    "        p1_winners = int(p1_fw) + int(p1_bw)\n",
    "        p1_unforced_errors = int(p1_fe) + int(p1_be)\n",
    "\n",
    "\n",
    "        #append to we_dict\n",
    "        we_dict['p1_winners'] = p1_winners\n",
    "        we_dict['p1_fw'] = p1_fw\n",
    "        we_dict['p1_bw'] = p1_bw\n",
    "        we_dict['p1_unforced_errors'] = p1_unforced_errors\n",
    "        we_dict['p1_fe'] = p1_fe\n",
    "        we_dict['p1_be'] = p1_be\n",
    "\n",
    "        #get winners for p2\n",
    "        p2_w = soup.findAll('td', {'align':'right'})[16].text\n",
    "        p2_wfb = p2_w[p2_w.find(\"(\")+1:p2_w.find(\")\")]\n",
    "        p2_fw, p2_bw = p2_wfb.split('/')\n",
    "\n",
    "        #get errors for p2\n",
    "        p2_e = soup.findAll('td', {'align':'right'})[17].text\n",
    "        p2_efb = p2_e[p2_e.find(\"(\")+1:p2_e.find(\")\")]\n",
    "        p2_fe, p2_be = p2_efb.split('/')\n",
    "\n",
    "        p2_winners = int(p2_fw) + int(p2_bw)\n",
    "        p2_unforced_errors = int(p2_fe) + int(p2_be)\n",
    "\n",
    "        #append to we_dict\n",
    "        we_dict['p2_winners'] = p2_winners\n",
    "        we_dict['p2_fw'] = p2_fw\n",
    "        we_dict['p2_bw'] = p2_bw\n",
    "        we_dict['p2_unforced_errors'] = p2_unforced_errors\n",
    "        we_dict['p2_fe'] = p2_fe\n",
    "        we_dict['p2_be'] = p2_be\n",
    "\n",
    "        w_we_df_full = w_we_df_full.append(we_dict, ignore_index=True)\n",
    "    except:\n",
    "        pass"
   ]
  },
  {
   "cell_type": "code",
   "execution_count": 435,
   "metadata": {},
   "outputs": [],
   "source": [
    "w_we_df_full.to_csv('w_we_df_full.txt', sep='\\t')"
   ]
  },
  {
   "cell_type": "code",
   "execution_count": 436,
   "metadata": {},
   "outputs": [],
   "source": [
    "w_we_df_full = pd.read_csv('w_we_df_full.txt', sep='\\t')"
   ]
  },
  {
   "cell_type": "code",
   "execution_count": null,
   "metadata": {},
   "outputs": [],
   "source": []
  },
  {
   "cell_type": "code",
   "execution_count": 357,
   "metadata": {},
   "outputs": [],
   "source": [
    "we_df_full = pd.read_csv('we_df_full1.txt', sep='\\t')"
   ]
  },
  {
   "cell_type": "code",
   "execution_count": 358,
   "metadata": {},
   "outputs": [],
   "source": [
    "ta_df = pd.read_csv('tennis_abstract_df1.txt', sep='\\t')"
   ]
  },
  {
   "cell_type": "code",
   "execution_count": 392,
   "metadata": {},
   "outputs": [],
   "source": [
    "ta_df2 = pd.read_csv('tennis_abstract_df2.txt', sep='\\t')"
   ]
  },
  {
   "cell_type": "code",
   "execution_count": 393,
   "metadata": {},
   "outputs": [],
   "source": [
    "pivot_df = pd.read_csv('pivot_df.txt', sep='\\t')"
   ]
  },
  {
   "cell_type": "code",
   "execution_count": 429,
   "metadata": {},
   "outputs": [],
   "source": [
    "wta_df = pd.read_csv('w_tennis_abstract_df.txt', sep='\\t')"
   ]
  },
  {
   "cell_type": "code",
   "execution_count": 430,
   "metadata": {},
   "outputs": [],
   "source": [
    "w_pivot_df = pd.read_csv('w_pivot_df.txt', sep='\\t')"
   ]
  },
  {
   "cell_type": "code",
   "execution_count": 431,
   "metadata": {},
   "outputs": [],
   "source": [
    "w_tennis_abstract_df2 = pd.read_csv('w_tennis_abstract_df2.txt', sep='\\t')"
   ]
  },
  {
   "cell_type": "code",
   "execution_count": 440,
   "metadata": {},
   "outputs": [],
   "source": [
    "w_we_df_full = pd.read_csv('w_we_df_full.txt', sep='\\t')"
   ]
  },
  {
   "cell_type": "code",
   "execution_count": null,
   "metadata": {},
   "outputs": [],
   "source": []
  },
  {
   "cell_type": "markdown",
   "metadata": {},
   "source": [
    "# DataFrame merge and concat"
   ]
  },
  {
   "cell_type": "code",
   "execution_count": 442,
   "metadata": {},
   "outputs": [],
   "source": [
    "df_total = pd.merge(we_df_full, ta_df, how='inner', on='match_id')"
   ]
  },
  {
   "cell_type": "code",
   "execution_count": 445,
   "metadata": {},
   "outputs": [],
   "source": [
    "df_total = pd.merge(df_total, ta_df2, how='inner', on='match_id')"
   ]
  },
  {
   "cell_type": "code",
   "execution_count": 446,
   "metadata": {},
   "outputs": [],
   "source": [
    "df_total = pd.merge(df_total, pivot_df, how='inner', on='match_id')"
   ]
  },
  {
   "cell_type": "code",
   "execution_count": 449,
   "metadata": {},
   "outputs": [
    {
     "data": {
      "text/plain": [
       "(1746, 71)"
      ]
     },
     "execution_count": 449,
     "metadata": {},
     "output_type": "execute_result"
    }
   ],
   "source": [
    "df_total.shape"
   ]
  },
  {
   "cell_type": "code",
   "execution_count": null,
   "metadata": {},
   "outputs": [],
   "source": []
  },
  {
   "cell_type": "code",
   "execution_count": 450,
   "metadata": {},
   "outputs": [],
   "source": [
    "df_total_w = pd.merge(w_we_df_full, wta_df, how='inner', on='match_id')"
   ]
  },
  {
   "cell_type": "code",
   "execution_count": 451,
   "metadata": {},
   "outputs": [],
   "source": [
    "df_total_w = pd.merge(df_total_w, w_tennis_abstract_df2, how='inner', on='match_id')"
   ]
  },
  {
   "cell_type": "code",
   "execution_count": 452,
   "metadata": {},
   "outputs": [],
   "source": [
    "df_total_w = pd.merge(df_total_w, w_pivot_df, how='inner', on='match_id')"
   ]
  },
  {
   "cell_type": "code",
   "execution_count": 453,
   "metadata": {},
   "outputs": [
    {
     "data": {
      "text/plain": [
       "(2080, 71)"
      ]
     },
     "execution_count": 453,
     "metadata": {},
     "output_type": "execute_result"
    }
   ],
   "source": [
    "df_total_w.shape"
   ]
  },
  {
   "cell_type": "code",
   "execution_count": null,
   "metadata": {},
   "outputs": [],
   "source": []
  },
  {
   "cell_type": "code",
   "execution_count": 462,
   "metadata": {},
   "outputs": [],
   "source": [
    "df_total = df_total.drop(['Unnamed: 0_x', 'Unnamed: 0_y'], axis=1)"
   ]
  },
  {
   "cell_type": "code",
   "execution_count": 464,
   "metadata": {},
   "outputs": [
    {
     "data": {
      "text/plain": [
       "(1746, 67)"
      ]
     },
     "execution_count": 464,
     "metadata": {},
     "output_type": "execute_result"
    }
   ],
   "source": [
    "df_total.shape"
   ]
  },
  {
   "cell_type": "code",
   "execution_count": 460,
   "metadata": {},
   "outputs": [],
   "source": [
    "df_total_w = df_total_w.drop(['Unnamed: 0_x', 'Unnamed: 0_y'], axis=1)"
   ]
  },
  {
   "cell_type": "code",
   "execution_count": 465,
   "metadata": {},
   "outputs": [
    {
     "data": {
      "text/plain": [
       "(2080, 67)"
      ]
     },
     "execution_count": 465,
     "metadata": {},
     "output_type": "execute_result"
    }
   ],
   "source": [
    "df_total_w.shape"
   ]
  },
  {
   "cell_type": "code",
   "execution_count": 474,
   "metadata": {},
   "outputs": [
    {
     "name": "stderr",
     "output_type": "stream",
     "text": [
      "/anaconda3/lib/python3.6/site-packages/ipykernel_launcher.py:2: FutureWarning: Sorting because non-concatenation axis is not aligned. A future version\n",
      "of pandas will change to not sort by default.\n",
      "\n",
      "To accept the future behavior, pass 'sort=False'.\n",
      "\n",
      "To retain the current behavior and silence the warning, pass 'sort=True'.\n",
      "\n",
      "  \n"
     ]
    }
   ],
   "source": [
    "frames = [df_total, df_total_w]\n",
    "df_total_all = pd.concat(frames)"
   ]
  },
  {
   "cell_type": "code",
   "execution_count": 475,
   "metadata": {},
   "outputs": [
    {
     "data": {
      "text/html": [
       "<div>\n",
       "<style scoped>\n",
       "    .dataframe tbody tr th:only-of-type {\n",
       "        vertical-align: middle;\n",
       "    }\n",
       "\n",
       "    .dataframe tbody tr th {\n",
       "        vertical-align: top;\n",
       "    }\n",
       "\n",
       "    .dataframe thead th {\n",
       "        text-align: right;\n",
       "    }\n",
       "</style>\n",
       "<table border=\"1\" class=\"dataframe\">\n",
       "  <thead>\n",
       "    <tr style=\"text-align: right;\">\n",
       "      <th></th>\n",
       "      <th>avg_rally_len</th>\n",
       "      <th>loser</th>\n",
       "      <th>match_id</th>\n",
       "      <th>p1</th>\n",
       "      <th>p1_1stIn_per</th>\n",
       "      <th>p1_1stW_per</th>\n",
       "      <th>p1_2ndW_per</th>\n",
       "      <th>p1_ace_per</th>\n",
       "      <th>p1_backhand_per</th>\n",
       "      <th>p1_be</th>\n",
       "      <th>...</th>\n",
       "      <th>p2_netwon</th>\n",
       "      <th>p2_num_rtpts</th>\n",
       "      <th>p2_ret_inplay</th>\n",
       "      <th>p2_ret_won</th>\n",
       "      <th>p2_serve_ptswon</th>\n",
       "      <th>p2_serve_win</th>\n",
       "      <th>p2_unforced_errors</th>\n",
       "      <th>p2_winners</th>\n",
       "      <th>score</th>\n",
       "      <th>winner</th>\n",
       "    </tr>\n",
       "  </thead>\n",
       "  <tbody>\n",
       "    <tr>\n",
       "      <th>2075</th>\n",
       "      <td>4.143805</td>\n",
       "      <td>Simona Halep</td>\n",
       "      <td>20170711-W-Wimbledon-QF-Simona_Halep-Johanna_K...</td>\n",
       "      <td>Simona Halep</td>\n",
       "      <td>0.661</td>\n",
       "      <td>0.724</td>\n",
       "      <td>0.538</td>\n",
       "      <td>0.035</td>\n",
       "      <td>0.430079</td>\n",
       "      <td>8</td>\n",
       "      <td>...</td>\n",
       "      <td>0.67</td>\n",
       "      <td>115.0</td>\n",
       "      <td>0.669565</td>\n",
       "      <td>0.34</td>\n",
       "      <td>75.0</td>\n",
       "      <td>0.68</td>\n",
       "      <td>45.0</td>\n",
       "      <td>42.0</td>\n",
       "      <td>6-7(2) 7-6(5) 6-4</td>\n",
       "      <td>Johanna Konta</td>\n",
       "    </tr>\n",
       "    <tr>\n",
       "      <th>2076</th>\n",
       "      <td>5.297248</td>\n",
       "      <td>Carla Suarez Navarro</td>\n",
       "      <td>20150227-W-Doha-SF-Lucie_Safarova-Carla_Suarez...</td>\n",
       "      <td>Lucie Safarova</td>\n",
       "      <td>0.764</td>\n",
       "      <td>0.667</td>\n",
       "      <td>0.692</td>\n",
       "      <td>0.036</td>\n",
       "      <td>0.570881</td>\n",
       "      <td>12</td>\n",
       "      <td>...</td>\n",
       "      <td>0.40</td>\n",
       "      <td>55.0</td>\n",
       "      <td>0.800000</td>\n",
       "      <td>0.33</td>\n",
       "      <td>25.0</td>\n",
       "      <td>0.46</td>\n",
       "      <td>27.0</td>\n",
       "      <td>9.0</td>\n",
       "      <td>6-3 6-2</td>\n",
       "      <td>Lucie Safarova</td>\n",
       "    </tr>\n",
       "    <tr>\n",
       "      <th>2077</th>\n",
       "      <td>5.043151</td>\n",
       "      <td>Agnieszka Radwanska</td>\n",
       "      <td>20150814-W-Toronto-QF-Agnieszka_Radwanska-Simo...</td>\n",
       "      <td>Agnieszka Radwanska</td>\n",
       "      <td>0.634</td>\n",
       "      <td>0.556</td>\n",
       "      <td>0.500</td>\n",
       "      <td>0.056</td>\n",
       "      <td>0.478528</td>\n",
       "      <td>16</td>\n",
       "      <td>...</td>\n",
       "      <td>0.82</td>\n",
       "      <td>71.0</td>\n",
       "      <td>0.788732</td>\n",
       "      <td>0.46</td>\n",
       "      <td>43.0</td>\n",
       "      <td>0.57</td>\n",
       "      <td>29.0</td>\n",
       "      <td>23.0</td>\n",
       "      <td>0-6 6-3 6-1</td>\n",
       "      <td>Simona Halep</td>\n",
       "    </tr>\n",
       "    <tr>\n",
       "      <th>2078</th>\n",
       "      <td>3.762500</td>\n",
       "      <td>Viktorija Golubic</td>\n",
       "      <td>20180702-W-Wimbledon-R128-Viktorija_Golubic-On...</td>\n",
       "      <td>Viktorija Golubic</td>\n",
       "      <td>0.563</td>\n",
       "      <td>0.673</td>\n",
       "      <td>0.421</td>\n",
       "      <td>0.023</td>\n",
       "      <td>0.515625</td>\n",
       "      <td>16</td>\n",
       "      <td>...</td>\n",
       "      <td>0.75</td>\n",
       "      <td>87.0</td>\n",
       "      <td>0.758621</td>\n",
       "      <td>0.44</td>\n",
       "      <td>45.0</td>\n",
       "      <td>0.56</td>\n",
       "      <td>29.0</td>\n",
       "      <td>17.0</td>\n",
       "      <td>2-6 6-3 6-3</td>\n",
       "      <td>Ons Jabeur</td>\n",
       "    </tr>\n",
       "    <tr>\n",
       "      <th>2079</th>\n",
       "      <td>4.898876</td>\n",
       "      <td>Magdalena Frech</td>\n",
       "      <td>20150407-W-Katowice-R32-An_Sophie_Mestach-Magd...</td>\n",
       "      <td>An Sophie Mestach</td>\n",
       "      <td>0.729</td>\n",
       "      <td>0.771</td>\n",
       "      <td>0.615</td>\n",
       "      <td>0.042</td>\n",
       "      <td>0.471503</td>\n",
       "      <td>7</td>\n",
       "      <td>...</td>\n",
       "      <td>0.56</td>\n",
       "      <td>48.0</td>\n",
       "      <td>0.604167</td>\n",
       "      <td>0.27</td>\n",
       "      <td>18.0</td>\n",
       "      <td>0.44</td>\n",
       "      <td>19.0</td>\n",
       "      <td>5.0</td>\n",
       "      <td>6-2 6-1</td>\n",
       "      <td>An Sophie Mestach</td>\n",
       "    </tr>\n",
       "  </tbody>\n",
       "</table>\n",
       "<p>5 rows × 67 columns</p>\n",
       "</div>"
      ],
      "text/plain": [
       "      avg_rally_len                  loser  \\\n",
       "2075       4.143805           Simona Halep   \n",
       "2076       5.297248   Carla Suarez Navarro   \n",
       "2077       5.043151    Agnieszka Radwanska   \n",
       "2078       3.762500      Viktorija Golubic   \n",
       "2079       4.898876        Magdalena Frech   \n",
       "\n",
       "                                               match_id                   p1  \\\n",
       "2075  20170711-W-Wimbledon-QF-Simona_Halep-Johanna_K...         Simona Halep   \n",
       "2076  20150227-W-Doha-SF-Lucie_Safarova-Carla_Suarez...       Lucie Safarova   \n",
       "2077  20150814-W-Toronto-QF-Agnieszka_Radwanska-Simo...  Agnieszka Radwanska   \n",
       "2078  20180702-W-Wimbledon-R128-Viktorija_Golubic-On...    Viktorija Golubic   \n",
       "2079  20150407-W-Katowice-R32-An_Sophie_Mestach-Magd...    An Sophie Mestach   \n",
       "\n",
       "      p1_1stIn_per  p1_1stW_per  p1_2ndW_per  p1_ace_per  p1_backhand_per  \\\n",
       "2075         0.661        0.724        0.538       0.035         0.430079   \n",
       "2076         0.764        0.667        0.692       0.036         0.570881   \n",
       "2077         0.634        0.556        0.500       0.056         0.478528   \n",
       "2078         0.563        0.673        0.421       0.023         0.515625   \n",
       "2079         0.729        0.771        0.615       0.042         0.471503   \n",
       "\n",
       "      p1_be         ...          p2_netwon  p2_num_rtpts  p2_ret_inplay  \\\n",
       "2075      8         ...               0.67         115.0       0.669565   \n",
       "2076     12         ...               0.40          55.0       0.800000   \n",
       "2077     16         ...               0.82          71.0       0.788732   \n",
       "2078     16         ...               0.75          87.0       0.758621   \n",
       "2079      7         ...               0.56          48.0       0.604167   \n",
       "\n",
       "      p2_ret_won  p2_serve_ptswon  p2_serve_win  p2_unforced_errors  \\\n",
       "2075        0.34             75.0          0.68                45.0   \n",
       "2076        0.33             25.0          0.46                27.0   \n",
       "2077        0.46             43.0          0.57                29.0   \n",
       "2078        0.44             45.0          0.56                29.0   \n",
       "2079        0.27             18.0          0.44                19.0   \n",
       "\n",
       "      p2_winners              score              winner  \n",
       "2075        42.0  6-7(2) 7-6(5) 6-4      Johanna Konta   \n",
       "2076         9.0            6-3 6-2     Lucie Safarova   \n",
       "2077        23.0        0-6 6-3 6-1       Simona Halep   \n",
       "2078        17.0        2-6 6-3 6-3         Ons Jabeur   \n",
       "2079         5.0            6-2 6-1  An Sophie Mestach   \n",
       "\n",
       "[5 rows x 67 columns]"
      ]
     },
     "execution_count": 475,
     "metadata": {},
     "output_type": "execute_result"
    }
   ],
   "source": [
    "df_total_all.tail()"
   ]
  },
  {
   "cell_type": "code",
   "execution_count": 476,
   "metadata": {},
   "outputs": [
    {
     "data": {
      "text/plain": [
       "Index(['avg_rally_len', 'loser', 'match_id', 'p1', 'p1_1stIn_per',\n",
       "       'p1_1stW_per', 'p1_2ndW_per', 'p1_ace_per', 'p1_backhand_per', 'p1_be',\n",
       "       'p1_bp_saved', 'p1_bw', 'p1_cc', 'p1_df_per', 'p1_dl', 'p1_dm', 'p1_fe',\n",
       "       'p1_forehand_per', 'p1_fw', 'p1_gp_won', 'p1_ii', 'p1_io',\n",
       "       'p1_neterrors', 'p1_netpassed', 'p1_netpts', 'p1_netpts_per',\n",
       "       'p1_netwon', 'p1_num_rtpts', 'p1_ret_inplay', 'p1_ret_won',\n",
       "       'p1_serve_ptswon', 'p1_serve_win', 'p1_unforced_errors', 'p1_winners',\n",
       "       'p2', 'p2_1stIn_per', 'p2_1stW_per', 'p2_2ndW_per', 'p2_ace_per',\n",
       "       'p2_backhand_per', 'p2_be', 'p2_bp_saved', 'p2_bw', 'p2_cc',\n",
       "       'p2_df_per', 'p2_dl', 'p2_dm', 'p2_fe', 'p2_forehand_per', 'p2_fw',\n",
       "       'p2_gp_won', 'p2_ii', 'p2_io', 'p2_neterrors', 'p2_netpassed',\n",
       "       'p2_netpts', 'p2_netpts_per', 'p2_netwon', 'p2_num_rtpts',\n",
       "       'p2_ret_inplay', 'p2_ret_won', 'p2_serve_ptswon', 'p2_serve_win',\n",
       "       'p2_unforced_errors', 'p2_winners', 'score', 'winner'],\n",
       "      dtype='object')"
      ]
     },
     "execution_count": 476,
     "metadata": {},
     "output_type": "execute_result"
    }
   ],
   "source": [
    "df_total_all.columns"
   ]
  },
  {
   "cell_type": "code",
   "execution_count": null,
   "metadata": {},
   "outputs": [],
   "source": []
  },
  {
   "cell_type": "code",
   "execution_count": 477,
   "metadata": {},
   "outputs": [],
   "source": [
    "df_total_all['date'], df_total_all['level'], df_total_all['tourney'], df_total_all['round'], df_total_all['p1'], df_total_all['p2'] = df_total_all['match_id'].str.split('-',6).str\n",
    "df_total_all['tourney'] = df_total_all['tourney'].str.split('_').str[0]\n",
    "df_total_all['p1'] = df_total_all['p1'].str.split('_').str[-1]\n",
    "df_total_all['p2'] = df_total_all['p2'].str.split('_').str[-1]\n",
    "df_total_all['date'] = df_total_all['date'].str[:4]\n",
    "df_total_all['p2'] = df_total_all['p2'].str.split('.').str[-2]\n",
    "df_total_all = df_total_all.drop(['match_id'], axis=1)\n",
    "df_total_all['p'] = (df_total_all['p1']+' '+ df_total_all['p2'])\n",
    "df_total_all['names'] = df_total_all['p'].str.split().map(lambda x: '-'.join(sorted(x)))\n",
    "df_total_all['match_id'] = df_total_all['tourney'].astype(str) + '-'+df_total_all['date']+'-'+df_total_all['names']\n",
    "df_total_all['match_id'] = df_total_all['match_id'].str.lower()\n",
    "df_total_all = df_total_all.drop(['date','level','tourney','round','p','names'], axis=1)"
   ]
  },
  {
   "cell_type": "code",
   "execution_count": 478,
   "metadata": {},
   "outputs": [
    {
     "data": {
      "text/html": [
       "<div>\n",
       "<style scoped>\n",
       "    .dataframe tbody tr th:only-of-type {\n",
       "        vertical-align: middle;\n",
       "    }\n",
       "\n",
       "    .dataframe tbody tr th {\n",
       "        vertical-align: top;\n",
       "    }\n",
       "\n",
       "    .dataframe thead th {\n",
       "        text-align: right;\n",
       "    }\n",
       "</style>\n",
       "<table border=\"1\" class=\"dataframe\">\n",
       "  <thead>\n",
       "    <tr style=\"text-align: right;\">\n",
       "      <th></th>\n",
       "      <th>avg_rally_len</th>\n",
       "      <th>loser</th>\n",
       "      <th>p1</th>\n",
       "      <th>p1_1stIn_per</th>\n",
       "      <th>p1_1stW_per</th>\n",
       "      <th>p1_2ndW_per</th>\n",
       "      <th>p1_ace_per</th>\n",
       "      <th>p1_backhand_per</th>\n",
       "      <th>p1_be</th>\n",
       "      <th>p1_bp_saved</th>\n",
       "      <th>...</th>\n",
       "      <th>p2_num_rtpts</th>\n",
       "      <th>p2_ret_inplay</th>\n",
       "      <th>p2_ret_won</th>\n",
       "      <th>p2_serve_ptswon</th>\n",
       "      <th>p2_serve_win</th>\n",
       "      <th>p2_unforced_errors</th>\n",
       "      <th>p2_winners</th>\n",
       "      <th>score</th>\n",
       "      <th>winner</th>\n",
       "      <th>match_id</th>\n",
       "    </tr>\n",
       "  </thead>\n",
       "  <tbody>\n",
       "    <tr>\n",
       "      <th>0</th>\n",
       "      <td>5.382562</td>\n",
       "      <td>Gilles Simon</td>\n",
       "      <td>Simon</td>\n",
       "      <td>0.568</td>\n",
       "      <td>0.557</td>\n",
       "      <td>0.552</td>\n",
       "      <td>0.065</td>\n",
       "      <td>0.515576</td>\n",
       "      <td>17</td>\n",
       "      <td>0.56</td>\n",
       "      <td>...</td>\n",
       "      <td>155.0</td>\n",
       "      <td>0.767742</td>\n",
       "      <td>0.45</td>\n",
       "      <td>82.0</td>\n",
       "      <td>0.65</td>\n",
       "      <td>47.0</td>\n",
       "      <td>39.0</td>\n",
       "      <td>6-2 6-3 4-6 4-6 6-3</td>\n",
       "      <td>Roger Federer</td>\n",
       "      <td>australian-2011-federer-simon</td>\n",
       "    </tr>\n",
       "    <tr>\n",
       "      <th>1</th>\n",
       "      <td>4.212389</td>\n",
       "      <td>Alexander Zverev</td>\n",
       "      <td>Murray</td>\n",
       "      <td>0.646</td>\n",
       "      <td>0.690</td>\n",
       "      <td>0.609</td>\n",
       "      <td>0.031</td>\n",
       "      <td>0.369458</td>\n",
       "      <td>6</td>\n",
       "      <td>0.75</td>\n",
       "      <td>...</td>\n",
       "      <td>65.0</td>\n",
       "      <td>0.661538</td>\n",
       "      <td>0.34</td>\n",
       "      <td>27.0</td>\n",
       "      <td>0.56</td>\n",
       "      <td>23.0</td>\n",
       "      <td>10.0</td>\n",
       "      <td>6-3 6-4</td>\n",
       "      <td>Andy Murray</td>\n",
       "      <td>hopman-2016-murray-zverev</td>\n",
       "    </tr>\n",
       "    <tr>\n",
       "      <th>2</th>\n",
       "      <td>3.247312</td>\n",
       "      <td>Julien Boutter</td>\n",
       "      <td>Boutter</td>\n",
       "      <td>0.500</td>\n",
       "      <td>0.660</td>\n",
       "      <td>0.489</td>\n",
       "      <td>0.053</td>\n",
       "      <td>0.496154</td>\n",
       "      <td>23</td>\n",
       "      <td>0.57</td>\n",
       "      <td>...</td>\n",
       "      <td>94.0</td>\n",
       "      <td>0.595745</td>\n",
       "      <td>0.43</td>\n",
       "      <td>56.0</td>\n",
       "      <td>0.61</td>\n",
       "      <td>27.0</td>\n",
       "      <td>15.0</td>\n",
       "      <td>6-4 6-7(7) 6-4</td>\n",
       "      <td>Roger Federer</td>\n",
       "      <td>milan-2001-boutter-federer</td>\n",
       "    </tr>\n",
       "    <tr>\n",
       "      <th>3</th>\n",
       "      <td>2.311881</td>\n",
       "      <td>Roger Federer</td>\n",
       "      <td>Rafter</td>\n",
       "      <td>0.695</td>\n",
       "      <td>0.848</td>\n",
       "      <td>0.483</td>\n",
       "      <td>0.053</td>\n",
       "      <td>0.554795</td>\n",
       "      <td>3</td>\n",
       "      <td>0.00</td>\n",
       "      <td>...</td>\n",
       "      <td>95.0</td>\n",
       "      <td>0.505263</td>\n",
       "      <td>0.26</td>\n",
       "      <td>75.0</td>\n",
       "      <td>0.70</td>\n",
       "      <td>5.0</td>\n",
       "      <td>31.0</td>\n",
       "      <td>4-6 7-6(6) 7-6(4)</td>\n",
       "      <td>Patrick Rafter</td>\n",
       "      <td>halle-2001-federer-rafter</td>\n",
       "    </tr>\n",
       "    <tr>\n",
       "      <th>4</th>\n",
       "      <td>4.418462</td>\n",
       "      <td>Novak Djokovic</td>\n",
       "      <td>Soderling</td>\n",
       "      <td>0.661</td>\n",
       "      <td>0.795</td>\n",
       "      <td>0.600</td>\n",
       "      <td>0.169</td>\n",
       "      <td>0.402390</td>\n",
       "      <td>10</td>\n",
       "      <td>1.00</td>\n",
       "      <td>...</td>\n",
       "      <td>59.0</td>\n",
       "      <td>0.627119</td>\n",
       "      <td>0.27</td>\n",
       "      <td>41.0</td>\n",
       "      <td>0.58</td>\n",
       "      <td>26.0</td>\n",
       "      <td>8.0</td>\n",
       "      <td>7-6(5) 6-1</td>\n",
       "      <td>Robin Soderling</td>\n",
       "      <td>london-2009-djokovic-soderling</td>\n",
       "    </tr>\n",
       "  </tbody>\n",
       "</table>\n",
       "<p>5 rows × 67 columns</p>\n",
       "</div>"
      ],
      "text/plain": [
       "   avg_rally_len              loser         p1  p1_1stIn_per  p1_1stW_per  \\\n",
       "0       5.382562       Gilles Simon      Simon         0.568        0.557   \n",
       "1       4.212389   Alexander Zverev     Murray         0.646        0.690   \n",
       "2       3.247312     Julien Boutter    Boutter         0.500        0.660   \n",
       "3       2.311881      Roger Federer     Rafter         0.695        0.848   \n",
       "4       4.418462     Novak Djokovic  Soderling         0.661        0.795   \n",
       "\n",
       "   p1_2ndW_per  p1_ace_per  p1_backhand_per  p1_be  p1_bp_saved  \\\n",
       "0        0.552       0.065         0.515576     17         0.56   \n",
       "1        0.609       0.031         0.369458      6         0.75   \n",
       "2        0.489       0.053         0.496154     23         0.57   \n",
       "3        0.483       0.053         0.554795      3         0.00   \n",
       "4        0.600       0.169         0.402390     10         1.00   \n",
       "\n",
       "                ...                p2_num_rtpts  p2_ret_inplay  p2_ret_won  \\\n",
       "0               ...                       155.0       0.767742        0.45   \n",
       "1               ...                        65.0       0.661538        0.34   \n",
       "2               ...                        94.0       0.595745        0.43   \n",
       "3               ...                        95.0       0.505263        0.26   \n",
       "4               ...                        59.0       0.627119        0.27   \n",
       "\n",
       "   p2_serve_ptswon  p2_serve_win  p2_unforced_errors  p2_winners  \\\n",
       "0             82.0          0.65                47.0        39.0   \n",
       "1             27.0          0.56                23.0        10.0   \n",
       "2             56.0          0.61                27.0        15.0   \n",
       "3             75.0          0.70                 5.0        31.0   \n",
       "4             41.0          0.58                26.0         8.0   \n",
       "\n",
       "                 score            winner                        match_id  \n",
       "0  6-2 6-3 4-6 4-6 6-3    Roger Federer    australian-2011-federer-simon  \n",
       "1              6-3 6-4      Andy Murray        hopman-2016-murray-zverev  \n",
       "2       6-4 6-7(7) 6-4    Roger Federer       milan-2001-boutter-federer  \n",
       "3    4-6 7-6(6) 7-6(4)   Patrick Rafter        halle-2001-federer-rafter  \n",
       "4           7-6(5) 6-1  Robin Soderling   london-2009-djokovic-soderling  \n",
       "\n",
       "[5 rows x 67 columns]"
      ]
     },
     "execution_count": 478,
     "metadata": {},
     "output_type": "execute_result"
    }
   ],
   "source": [
    "df_total_all.head()"
   ]
  },
  {
   "cell_type": "code",
   "execution_count": 479,
   "metadata": {},
   "outputs": [
    {
     "data": {
      "text/plain": [
       "Index(['avg_rally_len', 'loser', 'p1', 'p1_1stIn_per', 'p1_1stW_per',\n",
       "       'p1_2ndW_per', 'p1_ace_per', 'p1_backhand_per', 'p1_be', 'p1_bp_saved',\n",
       "       'p1_bw', 'p1_cc', 'p1_df_per', 'p1_dl', 'p1_dm', 'p1_fe',\n",
       "       'p1_forehand_per', 'p1_fw', 'p1_gp_won', 'p1_ii', 'p1_io',\n",
       "       'p1_neterrors', 'p1_netpassed', 'p1_netpts', 'p1_netpts_per',\n",
       "       'p1_netwon', 'p1_num_rtpts', 'p1_ret_inplay', 'p1_ret_won',\n",
       "       'p1_serve_ptswon', 'p1_serve_win', 'p1_unforced_errors', 'p1_winners',\n",
       "       'p2', 'p2_1stIn_per', 'p2_1stW_per', 'p2_2ndW_per', 'p2_ace_per',\n",
       "       'p2_backhand_per', 'p2_be', 'p2_bp_saved', 'p2_bw', 'p2_cc',\n",
       "       'p2_df_per', 'p2_dl', 'p2_dm', 'p2_fe', 'p2_forehand_per', 'p2_fw',\n",
       "       'p2_gp_won', 'p2_ii', 'p2_io', 'p2_neterrors', 'p2_netpassed',\n",
       "       'p2_netpts', 'p2_netpts_per', 'p2_netwon', 'p2_num_rtpts',\n",
       "       'p2_ret_inplay', 'p2_ret_won', 'p2_serve_ptswon', 'p2_serve_win',\n",
       "       'p2_unforced_errors', 'p2_winners', 'score', 'winner', 'match_id'],\n",
       "      dtype='object')"
      ]
     },
     "execution_count": 479,
     "metadata": {},
     "output_type": "execute_result"
    }
   ],
   "source": [
    "df_total_all.columns"
   ]
  },
  {
   "cell_type": "code",
   "execution_count": 480,
   "metadata": {},
   "outputs": [
    {
     "data": {
      "text/plain": [
       "(3826, 67)"
      ]
     },
     "execution_count": 480,
     "metadata": {},
     "output_type": "execute_result"
    }
   ],
   "source": [
    "df_total_all.shape"
   ]
  },
  {
   "cell_type": "code",
   "execution_count": 481,
   "metadata": {},
   "outputs": [],
   "source": [
    "df_total_all.to_csv('df_total_all', sep='\\t')"
   ]
  },
  {
   "cell_type": "code",
   "execution_count": 488,
   "metadata": {},
   "outputs": [],
   "source": [
    "df_total_all['p1_pts_won'] = round(df_total_all['p1_serve_ptswon'] + (df_total_all['p1_ret_won']*df_total_all['p1_num_rtpts']))\n",
    "df_total_all['p2_pts_won'] = round(df_total_all['p2_serve_ptswon'] + (df_total_all['p2_ret_won']*df_total_all['p1_num_rtpts']))\n",
    "df_total_all['p1_pts_per'] = df_total_all['p1_pts_won']/(df_total_all['p1_pts_won']+df_total_all['p2_pts_won'])\n",
    "df_total_all['p2_pts_per'] = df_total_all['p2_pts_won']/(df_total_all['p1_pts_won']+df_total_all['p2_pts_won'])\n",
    "df_total_all['p1_dominance'] = df_total_all['p1_ret_won']/(1-df_total_all['p1_serve_win'])\n",
    "df_total_all['p2_dominance'] = df_total_all['p2_ret_won']/(1-df_total_all['p2_serve_win'])"
   ]
  },
  {
   "cell_type": "code",
   "execution_count": 526,
   "metadata": {},
   "outputs": [
    {
     "data": {
      "text/html": [
       "<div>\n",
       "<style scoped>\n",
       "    .dataframe tbody tr th:only-of-type {\n",
       "        vertical-align: middle;\n",
       "    }\n",
       "\n",
       "    .dataframe tbody tr th {\n",
       "        vertical-align: top;\n",
       "    }\n",
       "\n",
       "    .dataframe thead th {\n",
       "        text-align: right;\n",
       "    }\n",
       "</style>\n",
       "<table border=\"1\" class=\"dataframe\">\n",
       "  <thead>\n",
       "    <tr style=\"text-align: right;\">\n",
       "      <th></th>\n",
       "      <th>avg_rally_len</th>\n",
       "      <th>loser</th>\n",
       "      <th>p1</th>\n",
       "      <th>p1_1stIn_per</th>\n",
       "      <th>p1_1stW_per</th>\n",
       "      <th>p1_2ndW_per</th>\n",
       "      <th>p1_ace_per</th>\n",
       "      <th>p1_backhand_per</th>\n",
       "      <th>p1_be</th>\n",
       "      <th>p1_bp_saved</th>\n",
       "      <th>...</th>\n",
       "      <th>p2_unforced_errors</th>\n",
       "      <th>p2_winners</th>\n",
       "      <th>score</th>\n",
       "      <th>winner</th>\n",
       "      <th>p1_pts_won</th>\n",
       "      <th>p2_pts_won</th>\n",
       "      <th>p1_pts_per</th>\n",
       "      <th>p2_pts_per</th>\n",
       "      <th>p1_dominance</th>\n",
       "      <th>p2_dominance</th>\n",
       "    </tr>\n",
       "    <tr>\n",
       "      <th>match_id</th>\n",
       "      <th></th>\n",
       "      <th></th>\n",
       "      <th></th>\n",
       "      <th></th>\n",
       "      <th></th>\n",
       "      <th></th>\n",
       "      <th></th>\n",
       "      <th></th>\n",
       "      <th></th>\n",
       "      <th></th>\n",
       "      <th></th>\n",
       "      <th></th>\n",
       "      <th></th>\n",
       "      <th></th>\n",
       "      <th></th>\n",
       "      <th></th>\n",
       "      <th></th>\n",
       "      <th></th>\n",
       "      <th></th>\n",
       "      <th></th>\n",
       "      <th></th>\n",
       "    </tr>\n",
       "  </thead>\n",
       "  <tbody>\n",
       "    <tr>\n",
       "      <th>australian-2011-federer-simon</th>\n",
       "      <td>5.382562</td>\n",
       "      <td>Gilles Simon</td>\n",
       "      <td>Simon</td>\n",
       "      <td>0.568</td>\n",
       "      <td>0.557</td>\n",
       "      <td>0.552</td>\n",
       "      <td>0.065</td>\n",
       "      <td>0.515576</td>\n",
       "      <td>17</td>\n",
       "      <td>0.56</td>\n",
       "      <td>...</td>\n",
       "      <td>47.0</td>\n",
       "      <td>39.0</td>\n",
       "      <td>6-2 6-3 4-6 4-6 6-3</td>\n",
       "      <td>Roger Federer</td>\n",
       "      <td>130.0</td>\n",
       "      <td>139.0</td>\n",
       "      <td>0.483271</td>\n",
       "      <td>0.516729</td>\n",
       "      <td>0.777778</td>\n",
       "      <td>1.285714</td>\n",
       "    </tr>\n",
       "    <tr>\n",
       "      <th>hopman-2016-murray-zverev</th>\n",
       "      <td>4.212389</td>\n",
       "      <td>Alexander Zverev</td>\n",
       "      <td>Murray</td>\n",
       "      <td>0.646</td>\n",
       "      <td>0.690</td>\n",
       "      <td>0.609</td>\n",
       "      <td>0.031</td>\n",
       "      <td>0.369458</td>\n",
       "      <td>6</td>\n",
       "      <td>0.75</td>\n",
       "      <td>...</td>\n",
       "      <td>23.0</td>\n",
       "      <td>10.0</td>\n",
       "      <td>6-3 6-4</td>\n",
       "      <td>Andy Murray</td>\n",
       "      <td>64.0</td>\n",
       "      <td>43.0</td>\n",
       "      <td>0.598131</td>\n",
       "      <td>0.401869</td>\n",
       "      <td>1.294118</td>\n",
       "      <td>0.772727</td>\n",
       "    </tr>\n",
       "    <tr>\n",
       "      <th>milan-2001-boutter-federer</th>\n",
       "      <td>3.247312</td>\n",
       "      <td>Julien Boutter</td>\n",
       "      <td>Boutter</td>\n",
       "      <td>0.500</td>\n",
       "      <td>0.660</td>\n",
       "      <td>0.489</td>\n",
       "      <td>0.053</td>\n",
       "      <td>0.496154</td>\n",
       "      <td>23</td>\n",
       "      <td>0.57</td>\n",
       "      <td>...</td>\n",
       "      <td>27.0</td>\n",
       "      <td>15.0</td>\n",
       "      <td>6-4 6-7(7) 6-4</td>\n",
       "      <td>Roger Federer</td>\n",
       "      <td>90.0</td>\n",
       "      <td>96.0</td>\n",
       "      <td>0.483871</td>\n",
       "      <td>0.516129</td>\n",
       "      <td>0.906977</td>\n",
       "      <td>1.102564</td>\n",
       "    </tr>\n",
       "    <tr>\n",
       "      <th>halle-2001-federer-rafter</th>\n",
       "      <td>2.311881</td>\n",
       "      <td>Roger Federer</td>\n",
       "      <td>Rafter</td>\n",
       "      <td>0.695</td>\n",
       "      <td>0.848</td>\n",
       "      <td>0.483</td>\n",
       "      <td>0.053</td>\n",
       "      <td>0.554795</td>\n",
       "      <td>3</td>\n",
       "      <td>0.00</td>\n",
       "      <td>...</td>\n",
       "      <td>5.0</td>\n",
       "      <td>31.0</td>\n",
       "      <td>4-6 7-6(6) 7-6(4)</td>\n",
       "      <td>Patrick Rafter</td>\n",
       "      <td>102.0</td>\n",
       "      <td>103.0</td>\n",
       "      <td>0.497561</td>\n",
       "      <td>0.502439</td>\n",
       "      <td>1.153846</td>\n",
       "      <td>0.866667</td>\n",
       "    </tr>\n",
       "    <tr>\n",
       "      <th>london-2009-djokovic-soderling</th>\n",
       "      <td>4.418462</td>\n",
       "      <td>Novak Djokovic</td>\n",
       "      <td>Soderling</td>\n",
       "      <td>0.661</td>\n",
       "      <td>0.795</td>\n",
       "      <td>0.600</td>\n",
       "      <td>0.169</td>\n",
       "      <td>0.402390</td>\n",
       "      <td>10</td>\n",
       "      <td>1.00</td>\n",
       "      <td>...</td>\n",
       "      <td>26.0</td>\n",
       "      <td>8.0</td>\n",
       "      <td>7-6(5) 6-1</td>\n",
       "      <td>Robin Soderling</td>\n",
       "      <td>73.0</td>\n",
       "      <td>60.0</td>\n",
       "      <td>0.548872</td>\n",
       "      <td>0.451128</td>\n",
       "      <td>1.555556</td>\n",
       "      <td>0.642857</td>\n",
       "    </tr>\n",
       "  </tbody>\n",
       "</table>\n",
       "<p>5 rows × 72 columns</p>\n",
       "</div>"
      ],
      "text/plain": [
       "                                avg_rally_len              loser         p1  \\\n",
       "match_id                                                                      \n",
       "australian-2011-federer-simon        5.382562       Gilles Simon      Simon   \n",
       "hopman-2016-murray-zverev            4.212389   Alexander Zverev     Murray   \n",
       "milan-2001-boutter-federer           3.247312     Julien Boutter    Boutter   \n",
       "halle-2001-federer-rafter            2.311881      Roger Federer     Rafter   \n",
       "london-2009-djokovic-soderling       4.418462     Novak Djokovic  Soderling   \n",
       "\n",
       "                                p1_1stIn_per  p1_1stW_per  p1_2ndW_per  \\\n",
       "match_id                                                                 \n",
       "australian-2011-federer-simon          0.568        0.557        0.552   \n",
       "hopman-2016-murray-zverev              0.646        0.690        0.609   \n",
       "milan-2001-boutter-federer             0.500        0.660        0.489   \n",
       "halle-2001-federer-rafter              0.695        0.848        0.483   \n",
       "london-2009-djokovic-soderling         0.661        0.795        0.600   \n",
       "\n",
       "                                p1_ace_per  p1_backhand_per  p1_be  \\\n",
       "match_id                                                             \n",
       "australian-2011-federer-simon        0.065         0.515576     17   \n",
       "hopman-2016-murray-zverev            0.031         0.369458      6   \n",
       "milan-2001-boutter-federer           0.053         0.496154     23   \n",
       "halle-2001-federer-rafter            0.053         0.554795      3   \n",
       "london-2009-djokovic-soderling       0.169         0.402390     10   \n",
       "\n",
       "                                p1_bp_saved      ...       p2_unforced_errors  \\\n",
       "match_id                                         ...                            \n",
       "australian-2011-federer-simon          0.56      ...                     47.0   \n",
       "hopman-2016-murray-zverev              0.75      ...                     23.0   \n",
       "milan-2001-boutter-federer             0.57      ...                     27.0   \n",
       "halle-2001-federer-rafter              0.00      ...                      5.0   \n",
       "london-2009-djokovic-soderling         1.00      ...                     26.0   \n",
       "\n",
       "                                p2_winners                score  \\\n",
       "match_id                                                          \n",
       "australian-2011-federer-simon         39.0  6-2 6-3 4-6 4-6 6-3   \n",
       "hopman-2016-murray-zverev             10.0              6-3 6-4   \n",
       "milan-2001-boutter-federer            15.0       6-4 6-7(7) 6-4   \n",
       "halle-2001-federer-rafter             31.0    4-6 7-6(6) 7-6(4)   \n",
       "london-2009-djokovic-soderling         8.0           7-6(5) 6-1   \n",
       "\n",
       "                                          winner  p1_pts_won  p2_pts_won  \\\n",
       "match_id                                                                   \n",
       "australian-2011-federer-simon     Roger Federer        130.0       139.0   \n",
       "hopman-2016-murray-zverev           Andy Murray         64.0        43.0   \n",
       "milan-2001-boutter-federer        Roger Federer         90.0        96.0   \n",
       "halle-2001-federer-rafter        Patrick Rafter        102.0       103.0   \n",
       "london-2009-djokovic-soderling  Robin Soderling         73.0        60.0   \n",
       "\n",
       "                                p1_pts_per  p2_pts_per  p1_dominance  \\\n",
       "match_id                                                               \n",
       "australian-2011-federer-simon     0.483271    0.516729      0.777778   \n",
       "hopman-2016-murray-zverev         0.598131    0.401869      1.294118   \n",
       "milan-2001-boutter-federer        0.483871    0.516129      0.906977   \n",
       "halle-2001-federer-rafter         0.497561    0.502439      1.153846   \n",
       "london-2009-djokovic-soderling    0.548872    0.451128      1.555556   \n",
       "\n",
       "                                p2_dominance  \n",
       "match_id                                      \n",
       "australian-2011-federer-simon       1.285714  \n",
       "hopman-2016-murray-zverev           0.772727  \n",
       "milan-2001-boutter-federer          1.102564  \n",
       "halle-2001-federer-rafter           0.866667  \n",
       "london-2009-djokovic-soderling      0.642857  \n",
       "\n",
       "[5 rows x 72 columns]"
      ]
     },
     "execution_count": 526,
     "metadata": {},
     "output_type": "execute_result"
    }
   ],
   "source": [
    "df_total_all.head()"
   ]
  },
  {
   "cell_type": "code",
   "execution_count": 517,
   "metadata": {},
   "outputs": [],
   "source": [
    "df_total_all = df_total_all.set_index('match_id')"
   ]
  },
  {
   "cell_type": "code",
   "execution_count": 658,
   "metadata": {},
   "outputs": [],
   "source": [
    "import numpy as np"
   ]
  },
  {
   "cell_type": "code",
   "execution_count": 662,
   "metadata": {},
   "outputs": [
    {
     "name": "stdout",
     "output_type": "stream",
     "text": [
      "6-2 6-3 4-6 4-6 6-3  Gilles Simon Roger Federer  Simon Federer\n"
     ]
    }
   ],
   "source": [
    "testscore = df_total_all['score'][0]\n",
    "testloser = df_total_all['loser'][0]\n",
    "testwinner = df_total_all['winner'][0]\n",
    "testp1 = df_total_all['p1'][0]\n",
    "testp2 = df_total_all['p2'][0]\n",
    "print(testscore, testloser, testwinner, testp1, testp2)"
   ]
  },
  {
   "cell_type": "code",
   "execution_count": 663,
   "metadata": {},
   "outputs": [
    {
     "data": {
      "text/plain": [
       "['', 'Gilles', 'Simon']"
      ]
     },
     "execution_count": 663,
     "metadata": {},
     "output_type": "execute_result"
    }
   ],
   "source": [
    "testloser.split(' ')"
   ]
  },
  {
   "cell_type": "code",
   "execution_count": 664,
   "metadata": {},
   "outputs": [
    {
     "data": {
      "text/plain": [
       "'Federer'"
      ]
     },
     "execution_count": 664,
     "metadata": {},
     "output_type": "execute_result"
    }
   ],
   "source": [
    "testwinner.split(' ')[1]"
   ]
  },
  {
   "cell_type": "code",
   "execution_count": 665,
   "metadata": {},
   "outputs": [
    {
     "data": {
      "text/plain": [
       "'Simon'"
      ]
     },
     "execution_count": 665,
     "metadata": {},
     "output_type": "execute_result"
    }
   ],
   "source": [
    "testp1"
   ]
  },
  {
   "cell_type": "code",
   "execution_count": 666,
   "metadata": {},
   "outputs": [
    {
     "data": {
      "text/plain": [
       "'3'"
      ]
     },
     "execution_count": 666,
     "metadata": {},
     "output_type": "execute_result"
    }
   ],
   "source": [
    "testscore.split(' ')[1][2]"
   ]
  },
  {
   "cell_type": "code",
   "execution_count": 692,
   "metadata": {},
   "outputs": [],
   "source": [
    "df_total_all['p1_set1'] = np.where(df_total_all['winner'].str.split(' ').str[1] == df_total_all['p1'], df_total_all['score'].str.split(' ').str[0].str[0],df_total_all['score'].str.split(' ').str[0].str[2])\n",
    "df_total_all['p2_set1'] = np.where(df_total_all['winner'].str.split(' ').str[1] == df_total_all['p1'], df_total_all['score'].str.split(' ').str[0].str[2],df_total_all['score'].str.split(' ').str[0].str[0])\n",
    "df_total_all['p1_set2'] = np.where(df_total_all['winner'].str.split(' ').str[1] == df_total_all['p1'], df_total_all['score'].str.split(' ').str[1].str[0],df_total_all['score'].str.split(' ').str[1].str[2])\n",
    "df_total_all['p2_set2'] = np.where(df_total_all['winner'].str.split(' ').str[1] == df_total_all['p1'], df_total_all['score'].str.split(' ').str[1].str[2],df_total_all['score'].str.split(' ').str[1].str[0])\n",
    "df_total_all['p1_set3'] = np.where(df_total_all['winner'].str.split(' ').str[1] == df_total_all['p1'], df_total_all['score'].str.split(' ').str[2].str[0],df_total_all['score'].str.split(' ').str[2].str[2])\n",
    "df_total_all['p2_set3'] = np.where(df_total_all['winner'].str.split(' ').str[1] == df_total_all['p1'], df_total_all['score'].str.split(' ').str[2].str[2],df_total_all['score'].str.split(' ').str[2].str[0])\n",
    "df_total_all['p1_set4'] = np.where(df_total_all['winner'].str.split(' ').str[1] == df_total_all['p1'], df_total_all['score'].str.split(' ').str[3].str[0],df_total_all['score'].str.split(' ').str[3].str[2])\n",
    "df_total_all['p2_set4'] = np.where(df_total_all['winner'].str.split(' ').str[1] == df_total_all['p1'], df_total_all['score'].str.split(' ').str[3].str[2],df_total_all['score'].str.split(' ').str[3].str[0])\n",
    "df_total_all['p1_set5'] = np.where(df_total_all['winner'].str.split(' ').str[1] == df_total_all['p1'], df_total_all['score'].str.split(' ').str[4].str[0],df_total_all['score'].str.split(' ').str[4].str[2])\n",
    "df_total_all['p2_set5'] = np.where(df_total_all['winner'].str.split(' ').str[1] == df_total_all['p1'], df_total_all['score'].str.split(' ').str[4].str[2],df_total_all['score'].str.split(' ').str[4].str[0])"
   ]
  },
  {
   "cell_type": "code",
   "execution_count": 693,
   "metadata": {},
   "outputs": [
    {
     "data": {
      "text/html": [
       "<div>\n",
       "<style scoped>\n",
       "    .dataframe tbody tr th:only-of-type {\n",
       "        vertical-align: middle;\n",
       "    }\n",
       "\n",
       "    .dataframe tbody tr th {\n",
       "        vertical-align: top;\n",
       "    }\n",
       "\n",
       "    .dataframe thead th {\n",
       "        text-align: right;\n",
       "    }\n",
       "</style>\n",
       "<table border=\"1\" class=\"dataframe\">\n",
       "  <thead>\n",
       "    <tr style=\"text-align: right;\">\n",
       "      <th></th>\n",
       "      <th>avg_rally_len</th>\n",
       "      <th>loser</th>\n",
       "      <th>p1</th>\n",
       "      <th>p1_1stIn_per</th>\n",
       "      <th>p1_1stW_per</th>\n",
       "      <th>p1_2ndW_per</th>\n",
       "      <th>p1_ace_per</th>\n",
       "      <th>p1_backhand_per</th>\n",
       "      <th>p1_be</th>\n",
       "      <th>p1_bp_saved</th>\n",
       "      <th>...</th>\n",
       "      <th>p1_set1</th>\n",
       "      <th>p2_set1</th>\n",
       "      <th>p1_set2</th>\n",
       "      <th>p2_set2</th>\n",
       "      <th>p1_set3</th>\n",
       "      <th>p2_set3</th>\n",
       "      <th>p1_set4</th>\n",
       "      <th>p2_set4</th>\n",
       "      <th>p1_set5</th>\n",
       "      <th>p2_set5</th>\n",
       "    </tr>\n",
       "    <tr>\n",
       "      <th>match_id</th>\n",
       "      <th></th>\n",
       "      <th></th>\n",
       "      <th></th>\n",
       "      <th></th>\n",
       "      <th></th>\n",
       "      <th></th>\n",
       "      <th></th>\n",
       "      <th></th>\n",
       "      <th></th>\n",
       "      <th></th>\n",
       "      <th></th>\n",
       "      <th></th>\n",
       "      <th></th>\n",
       "      <th></th>\n",
       "      <th></th>\n",
       "      <th></th>\n",
       "      <th></th>\n",
       "      <th></th>\n",
       "      <th></th>\n",
       "      <th></th>\n",
       "      <th></th>\n",
       "    </tr>\n",
       "  </thead>\n",
       "  <tbody>\n",
       "    <tr>\n",
       "      <th>australian-2011-federer-simon</th>\n",
       "      <td>5.382562</td>\n",
       "      <td>Gilles Simon</td>\n",
       "      <td>Simon</td>\n",
       "      <td>0.568</td>\n",
       "      <td>0.557</td>\n",
       "      <td>0.552</td>\n",
       "      <td>0.065</td>\n",
       "      <td>0.515576</td>\n",
       "      <td>17</td>\n",
       "      <td>0.56</td>\n",
       "      <td>...</td>\n",
       "      <td>2</td>\n",
       "      <td>6</td>\n",
       "      <td>3</td>\n",
       "      <td>6</td>\n",
       "      <td>6</td>\n",
       "      <td>4</td>\n",
       "      <td>6</td>\n",
       "      <td>4</td>\n",
       "      <td>3</td>\n",
       "      <td>6</td>\n",
       "    </tr>\n",
       "    <tr>\n",
       "      <th>hopman-2016-murray-zverev</th>\n",
       "      <td>4.212389</td>\n",
       "      <td>Alexander Zverev</td>\n",
       "      <td>Murray</td>\n",
       "      <td>0.646</td>\n",
       "      <td>0.690</td>\n",
       "      <td>0.609</td>\n",
       "      <td>0.031</td>\n",
       "      <td>0.369458</td>\n",
       "      <td>6</td>\n",
       "      <td>0.75</td>\n",
       "      <td>...</td>\n",
       "      <td>6</td>\n",
       "      <td>3</td>\n",
       "      <td>6</td>\n",
       "      <td>4</td>\n",
       "      <td>NaN</td>\n",
       "      <td>NaN</td>\n",
       "      <td>NaN</td>\n",
       "      <td>NaN</td>\n",
       "      <td>NaN</td>\n",
       "      <td>NaN</td>\n",
       "    </tr>\n",
       "    <tr>\n",
       "      <th>milan-2001-boutter-federer</th>\n",
       "      <td>3.247312</td>\n",
       "      <td>Julien Boutter</td>\n",
       "      <td>Boutter</td>\n",
       "      <td>0.500</td>\n",
       "      <td>0.660</td>\n",
       "      <td>0.489</td>\n",
       "      <td>0.053</td>\n",
       "      <td>0.496154</td>\n",
       "      <td>23</td>\n",
       "      <td>0.57</td>\n",
       "      <td>...</td>\n",
       "      <td>4</td>\n",
       "      <td>6</td>\n",
       "      <td>7</td>\n",
       "      <td>6</td>\n",
       "      <td>4</td>\n",
       "      <td>6</td>\n",
       "      <td>NaN</td>\n",
       "      <td>NaN</td>\n",
       "      <td>NaN</td>\n",
       "      <td>NaN</td>\n",
       "    </tr>\n",
       "    <tr>\n",
       "      <th>halle-2001-federer-rafter</th>\n",
       "      <td>2.311881</td>\n",
       "      <td>Roger Federer</td>\n",
       "      <td>Rafter</td>\n",
       "      <td>0.695</td>\n",
       "      <td>0.848</td>\n",
       "      <td>0.483</td>\n",
       "      <td>0.053</td>\n",
       "      <td>0.554795</td>\n",
       "      <td>3</td>\n",
       "      <td>0.00</td>\n",
       "      <td>...</td>\n",
       "      <td>4</td>\n",
       "      <td>6</td>\n",
       "      <td>7</td>\n",
       "      <td>6</td>\n",
       "      <td>7</td>\n",
       "      <td>6</td>\n",
       "      <td>NaN</td>\n",
       "      <td>NaN</td>\n",
       "      <td>NaN</td>\n",
       "      <td>NaN</td>\n",
       "    </tr>\n",
       "    <tr>\n",
       "      <th>london-2009-djokovic-soderling</th>\n",
       "      <td>4.418462</td>\n",
       "      <td>Novak Djokovic</td>\n",
       "      <td>Soderling</td>\n",
       "      <td>0.661</td>\n",
       "      <td>0.795</td>\n",
       "      <td>0.600</td>\n",
       "      <td>0.169</td>\n",
       "      <td>0.402390</td>\n",
       "      <td>10</td>\n",
       "      <td>1.00</td>\n",
       "      <td>...</td>\n",
       "      <td>7</td>\n",
       "      <td>6</td>\n",
       "      <td>6</td>\n",
       "      <td>1</td>\n",
       "      <td>NaN</td>\n",
       "      <td>NaN</td>\n",
       "      <td>NaN</td>\n",
       "      <td>NaN</td>\n",
       "      <td>NaN</td>\n",
       "      <td>NaN</td>\n",
       "    </tr>\n",
       "  </tbody>\n",
       "</table>\n",
       "<p>5 rows × 82 columns</p>\n",
       "</div>"
      ],
      "text/plain": [
       "                                avg_rally_len              loser         p1  \\\n",
       "match_id                                                                      \n",
       "australian-2011-federer-simon        5.382562       Gilles Simon      Simon   \n",
       "hopman-2016-murray-zverev            4.212389   Alexander Zverev     Murray   \n",
       "milan-2001-boutter-federer           3.247312     Julien Boutter    Boutter   \n",
       "halle-2001-federer-rafter            2.311881      Roger Federer     Rafter   \n",
       "london-2009-djokovic-soderling       4.418462     Novak Djokovic  Soderling   \n",
       "\n",
       "                                p1_1stIn_per  p1_1stW_per  p1_2ndW_per  \\\n",
       "match_id                                                                 \n",
       "australian-2011-federer-simon          0.568        0.557        0.552   \n",
       "hopman-2016-murray-zverev              0.646        0.690        0.609   \n",
       "milan-2001-boutter-federer             0.500        0.660        0.489   \n",
       "halle-2001-federer-rafter              0.695        0.848        0.483   \n",
       "london-2009-djokovic-soderling         0.661        0.795        0.600   \n",
       "\n",
       "                                p1_ace_per  p1_backhand_per  p1_be  \\\n",
       "match_id                                                             \n",
       "australian-2011-federer-simon        0.065         0.515576     17   \n",
       "hopman-2016-murray-zverev            0.031         0.369458      6   \n",
       "milan-2001-boutter-federer           0.053         0.496154     23   \n",
       "halle-2001-federer-rafter            0.053         0.554795      3   \n",
       "london-2009-djokovic-soderling       0.169         0.402390     10   \n",
       "\n",
       "                                p1_bp_saved   ...     p1_set1  p2_set1  \\\n",
       "match_id                                      ...                        \n",
       "australian-2011-federer-simon          0.56   ...           2        6   \n",
       "hopman-2016-murray-zverev              0.75   ...           6        3   \n",
       "milan-2001-boutter-federer             0.57   ...           4        6   \n",
       "halle-2001-federer-rafter              0.00   ...           4        6   \n",
       "london-2009-djokovic-soderling         1.00   ...           7        6   \n",
       "\n",
       "                                p1_set2  p2_set2  p1_set3  p2_set3  p1_set4  \\\n",
       "match_id                                                                      \n",
       "australian-2011-federer-simon         3        6        6        4        6   \n",
       "hopman-2016-murray-zverev             6        4      NaN      NaN      NaN   \n",
       "milan-2001-boutter-federer            7        6        4        6      NaN   \n",
       "halle-2001-federer-rafter             7        6        7        6      NaN   \n",
       "london-2009-djokovic-soderling        6        1      NaN      NaN      NaN   \n",
       "\n",
       "                                p2_set4  p1_set5  p2_set5  \n",
       "match_id                                                   \n",
       "australian-2011-federer-simon         4        3        6  \n",
       "hopman-2016-murray-zverev           NaN      NaN      NaN  \n",
       "milan-2001-boutter-federer          NaN      NaN      NaN  \n",
       "halle-2001-federer-rafter           NaN      NaN      NaN  \n",
       "london-2009-djokovic-soderling      NaN      NaN      NaN  \n",
       "\n",
       "[5 rows x 82 columns]"
      ]
     },
     "execution_count": 693,
     "metadata": {},
     "output_type": "execute_result"
    }
   ],
   "source": [
    "df_total_all.head()"
   ]
  },
  {
   "cell_type": "code",
   "execution_count": 694,
   "metadata": {},
   "outputs": [
    {
     "data": {
      "text/plain": [
       "82"
      ]
     },
     "execution_count": 694,
     "metadata": {},
     "output_type": "execute_result"
    }
   ],
   "source": [
    "len(df_total_all.columns)"
   ]
  },
  {
   "cell_type": "code",
   "execution_count": 695,
   "metadata": {},
   "outputs": [
    {
     "data": {
      "text/plain": [
       "Index(['avg_rally_len', 'loser', 'p1', 'p1_1stIn_per', 'p1_1stW_per',\n",
       "       'p1_2ndW_per', 'p1_ace_per', 'p1_backhand_per', 'p1_be', 'p1_bp_saved',\n",
       "       'p1_bw', 'p1_cc', 'p1_df_per', 'p1_dl', 'p1_dm', 'p1_fe',\n",
       "       'p1_forehand_per', 'p1_fw', 'p1_gp_won', 'p1_ii', 'p1_io',\n",
       "       'p1_neterrors', 'p1_netpassed', 'p1_netpts', 'p1_netpts_per',\n",
       "       'p1_netwon', 'p1_num_rtpts', 'p1_ret_inplay', 'p1_ret_won',\n",
       "       'p1_serve_ptswon', 'p1_serve_win', 'p1_unforced_errors', 'p1_winners',\n",
       "       'p2', 'p2_1stIn_per', 'p2_1stW_per', 'p2_2ndW_per', 'p2_ace_per',\n",
       "       'p2_backhand_per', 'p2_be', 'p2_bp_saved', 'p2_bw', 'p2_cc',\n",
       "       'p2_df_per', 'p2_dl', 'p2_dm', 'p2_fe', 'p2_forehand_per', 'p2_fw',\n",
       "       'p2_gp_won', 'p2_ii', 'p2_io', 'p2_neterrors', 'p2_netpassed',\n",
       "       'p2_netpts', 'p2_netpts_per', 'p2_netwon', 'p2_num_rtpts',\n",
       "       'p2_ret_inplay', 'p2_ret_won', 'p2_serve_ptswon', 'p2_serve_win',\n",
       "       'p2_unforced_errors', 'p2_winners', 'score', 'winner', 'p1_pts_won',\n",
       "       'p2_pts_won', 'p1_pts_per', 'p2_pts_per', 'p1_dominance',\n",
       "       'p2_dominance', 'p1_set1', 'p2_set1', 'p1_set2', 'p2_set2', 'p1_set3',\n",
       "       'p2_set3', 'p1_set4', 'p2_set4', 'p1_set5', 'p2_set5'],\n",
       "      dtype='object')"
      ]
     },
     "execution_count": 695,
     "metadata": {},
     "output_type": "execute_result"
    }
   ],
   "source": [
    "df_total_all.columns"
   ]
  },
  {
   "cell_type": "code",
   "execution_count": 493,
   "metadata": {},
   "outputs": [
    {
     "data": {
      "text/plain": [
       "8"
      ]
     },
     "execution_count": 493,
     "metadata": {},
     "output_type": "execute_result"
    }
   ],
   "source": [
    "len(['match_id','winner','loser','p1','p2','score','avg_rally_len','p1_dominance','p2_dominance','p1_pts_per','p2_pts_per','p1_winners','p1_unforced_errors','p1_gp_won','p1_bp_saved','p1_1stIn_per','p1_1stW_per','p1_2ndW_per','p1_ace_per','p1_df_per','p1_serve_win','p1_'])"
   ]
  },
  {
   "cell_type": "code",
   "execution_count": 696,
   "metadata": {},
   "outputs": [
    {
     "data": {
      "text/plain": [
       "avg_rally_len                     5.38256\n",
       "loser                        Gilles Simon\n",
       "p1                                  Simon\n",
       "p1_1stIn_per                        0.568\n",
       "p1_1stW_per                         0.557\n",
       "p1_2ndW_per                         0.552\n",
       "p1_ace_per                          0.065\n",
       "p1_backhand_per                  0.515576\n",
       "p1_be                                  17\n",
       "p1_bp_saved                          0.56\n",
       "p1_bw                                  13\n",
       "p1_cc                                0.57\n",
       "p1_df_per                           0.032\n",
       "p1_dl                                0.13\n",
       "p1_dm                                0.17\n",
       "p1_fe                                  14\n",
       "p1_forehand_per                  0.484424\n",
       "p1_fw                                  18\n",
       "p1_gp_won                            0.58\n",
       "p1_ii                                0.01\n",
       "p1_io                                0.11\n",
       "p1_neterrors                         0.04\n",
       "p1_netpassed                         0.17\n",
       "p1_netpts                              23\n",
       "p1_netpts_per                   0.0818505\n",
       "p1_netwon                            0.65\n",
       "p1_num_rtpts                          126\n",
       "p1_ret_inplay                    0.714286\n",
       "p1_ret_won                           0.35\n",
       "p1_serve_ptswon                        86\n",
       "                             ...         \n",
       "p2_neterrors                         0.03\n",
       "p2_netpassed                          0.2\n",
       "p2_netpts                              65\n",
       "p2_netpts_per                    0.231317\n",
       "p2_netwon                            0.72\n",
       "p2_num_rtpts                          155\n",
       "p2_ret_inplay                    0.767742\n",
       "p2_ret_won                           0.45\n",
       "p2_serve_ptswon                        82\n",
       "p2_serve_win                         0.65\n",
       "p2_unforced_errors                     47\n",
       "p2_winners                             39\n",
       "score                 6-2 6-3 4-6 4-6 6-3\n",
       "winner                     Roger Federer \n",
       "p1_pts_won                            130\n",
       "p2_pts_won                            139\n",
       "p1_pts_per                       0.483271\n",
       "p2_pts_per                       0.516729\n",
       "p1_dominance                     0.777778\n",
       "p2_dominance                      1.28571\n",
       "p1_set1                                 2\n",
       "p2_set1                                 6\n",
       "p1_set2                                 3\n",
       "p2_set2                                 6\n",
       "p1_set3                                 6\n",
       "p2_set3                                 4\n",
       "p1_set4                                 6\n",
       "p2_set4                                 4\n",
       "p1_set5                                 3\n",
       "p2_set5                                 6\n",
       "Name: australian-2011-federer-simon, Length: 82, dtype: object"
      ]
     },
     "execution_count": 696,
     "metadata": {},
     "output_type": "execute_result"
    }
   ],
   "source": [
    "df_total_all.iloc[0]"
   ]
  },
  {
   "cell_type": "code",
   "execution_count": null,
   "metadata": {},
   "outputs": [],
   "source": []
  }
 ],
 "metadata": {
  "kernelspec": {
   "display_name": "Python 3",
   "language": "python",
   "name": "python3"
  },
  "language_info": {
   "codemirror_mode": {
    "name": "ipython",
    "version": 3
   },
   "file_extension": ".py",
   "mimetype": "text/x-python",
   "name": "python",
   "nbconvert_exporter": "python",
   "pygments_lexer": "ipython3",
   "version": "3.6.7"
  }
 },
 "nbformat": 4,
 "nbformat_minor": 2
}
